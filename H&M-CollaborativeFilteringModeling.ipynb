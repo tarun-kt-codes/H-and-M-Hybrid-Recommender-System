{
 "cells": [
  {
   "cell_type": "markdown",
   "metadata": {},
   "source": [
    "![alt text](Images/MainBanner.jpeg)"
   ]
  },
  {
   "cell_type": "markdown",
   "metadata": {},
   "source": [
    "# Data Preparation"
   ]
  },
  {
   "cell_type": "code",
   "execution_count": 1,
   "metadata": {
    "ExecuteTime": {
     "end_time": "2022-06-02T15:17:18.072369Z",
     "start_time": "2022-06-02T15:17:15.878234Z"
    }
   },
   "outputs": [],
   "source": [
    "import pandas as pd\n",
    "import pickle\n",
    "import matplotlib.pyplot as plt\n",
    "\n",
    "from surprise import Dataset, Reader, accuracy\n",
    "from surprise.model_selection import cross_validate, GridSearchCV, train_test_split\n",
    "from surprise.prediction_algorithms import SVD, SVDpp, NMF, BaselineOnly, NormalPredictor, KNNBasic\n",
    "\n",
    "# from sklearn.model_selection import train_test_split\n",
    "\n",
    "plt.style.use('fast')\n",
    "%matplotlib inline"
   ]
  },
  {
   "cell_type": "code",
   "execution_count": 2,
   "metadata": {
    "ExecuteTime": {
     "end_time": "2022-06-02T15:17:22.815597Z",
     "start_time": "2022-06-02T15:17:22.812528Z"
    }
   },
   "outputs": [],
   "source": [
    "pd.set_option('display.max_columns', 50)"
   ]
  },
  {
   "cell_type": "markdown",
   "metadata": {},
   "source": [
    "Read in the `out` file which is the data prepared for the collaborative modeling in the `FinalDataPreparation` notebook."
   ]
  },
  {
   "cell_type": "code",
   "execution_count": 3,
   "metadata": {
    "ExecuteTime": {
     "end_time": "2022-06-02T15:17:25.191200Z",
     "start_time": "2022-06-02T15:17:23.561835Z"
    }
   },
   "outputs": [
    {
     "data": {
      "text/html": [
       "<div>\n",
       "<style scoped>\n",
       "    .dataframe tbody tr th:only-of-type {\n",
       "        vertical-align: middle;\n",
       "    }\n",
       "\n",
       "    .dataframe tbody tr th {\n",
       "        vertical-align: top;\n",
       "    }\n",
       "\n",
       "    .dataframe thead th {\n",
       "        text-align: right;\n",
       "    }\n",
       "</style>\n",
       "<table border=\"1\" class=\"dataframe\">\n",
       "  <thead>\n",
       "    <tr style=\"text-align: right;\">\n",
       "      <th></th>\n",
       "      <th>InvoiceDate</th>\n",
       "      <th>customer_id</th>\n",
       "      <th>article_id</th>\n",
       "      <th>price</th>\n",
       "      <th>sales_channel_id</th>\n",
       "      <th>t_dat</th>\n",
       "      <th>date</th>\n",
       "      <th>bought</th>\n",
       "    </tr>\n",
       "  </thead>\n",
       "  <tbody>\n",
       "    <tr>\n",
       "      <th>0</th>\n",
       "      <td>2020-09-14</td>\n",
       "      <td>0008968c0d451dbc5a9968da03196fe20051965edde741...</td>\n",
       "      <td>893059004</td>\n",
       "      <td>0.035576</td>\n",
       "      <td>2</td>\n",
       "      <td>2020-09-14</td>\n",
       "      <td>2020-09-14</td>\n",
       "      <td>1</td>\n",
       "    </tr>\n",
       "    <tr>\n",
       "      <th>1</th>\n",
       "      <td>2020-09-03</td>\n",
       "      <td>002611889659ab1051fc3e4e870f2b603c3aaa902ffe6a...</td>\n",
       "      <td>902802002</td>\n",
       "      <td>0.033881</td>\n",
       "      <td>2</td>\n",
       "      <td>2020-09-03</td>\n",
       "      <td>2020-09-03</td>\n",
       "      <td>1</td>\n",
       "    </tr>\n",
       "    <tr>\n",
       "      <th>2</th>\n",
       "      <td>2020-09-03</td>\n",
       "      <td>002611889659ab1051fc3e4e870f2b603c3aaa902ffe6a...</td>\n",
       "      <td>805000007</td>\n",
       "      <td>0.050831</td>\n",
       "      <td>2</td>\n",
       "      <td>2020-09-03</td>\n",
       "      <td>2020-09-03</td>\n",
       "      <td>1</td>\n",
       "    </tr>\n",
       "  </tbody>\n",
       "</table>\n",
       "</div>"
      ],
      "text/plain": [
       "  InvoiceDate                                        customer_id  article_id  \\\n",
       "0  2020-09-14  0008968c0d451dbc5a9968da03196fe20051965edde741...   893059004   \n",
       "1  2020-09-03  002611889659ab1051fc3e4e870f2b603c3aaa902ffe6a...   902802002   \n",
       "2  2020-09-03  002611889659ab1051fc3e4e870f2b603c3aaa902ffe6a...   805000007   \n",
       "\n",
       "      price  sales_channel_id       t_dat        date  bought  \n",
       "0  0.035576                 2  2020-09-14  2020-09-14       1  \n",
       "1  0.033881                 2  2020-09-03  2020-09-03       1  \n",
       "2  0.050831                 2  2020-09-03  2020-09-03       1  "
      ]
     },
     "execution_count": 3,
     "metadata": {},
     "output_type": "execute_result"
    }
   ],
   "source": [
    "transactions = pd.read_csv('Data/out.zip')\n",
    "transactions.head(3)"
   ]
  },
  {
   "cell_type": "code",
   "execution_count": 4,
   "metadata": {
    "ExecuteTime": {
     "end_time": "2022-06-02T15:17:25.281153Z",
     "start_time": "2022-06-02T15:17:25.274500Z"
    }
   },
   "outputs": [
    {
     "data": {
      "text/plain": [
       "(671674, 8)"
      ]
     },
     "execution_count": 4,
     "metadata": {},
     "output_type": "execute_result"
    }
   ],
   "source": [
    "transactions.shape"
   ]
  },
  {
   "cell_type": "code",
   "execution_count": 5,
   "metadata": {
    "ExecuteTime": {
     "end_time": "2022-06-02T15:17:25.376014Z",
     "start_time": "2022-06-02T15:17:25.370061Z"
    }
   },
   "outputs": [
    {
     "data": {
      "text/plain": [
       "'002611889659ab1051fc3e4e870f2b603c3aaa902ffe6ab59e83461c76c879dc'"
      ]
     },
     "execution_count": 5,
     "metadata": {},
     "output_type": "execute_result"
    }
   ],
   "source": [
    "transactions.customer_id[1]"
   ]
  },
  {
   "cell_type": "code",
   "execution_count": 6,
   "metadata": {
    "ExecuteTime": {
     "end_time": "2022-06-02T15:17:35.126169Z",
     "start_time": "2022-06-02T15:17:35.122052Z"
    }
   },
   "outputs": [
    {
     "data": {
      "text/plain": [
       "'0035b1a78ff4c2ae30b91308700c09d257bc8f830acc53574829f391f3e611d4'"
      ]
     },
     "execution_count": 6,
     "metadata": {},
     "output_type": "execute_result"
    }
   ],
   "source": [
    "transactions.customer_id[7]"
   ]
  },
  {
   "cell_type": "markdown",
   "metadata": {},
   "source": [
    "Transactions data description:\n",
    "\n",
    "- t_dat : A unique identifier of every customer\n",
    "- customer_id : A unique identifier of every customer (in customers table)\n",
    "- article_id : A unique identifier of every article (in articles table)\n",
    "- price : Price of purchase\n",
    "- sales_channel_id : 1 or 2"
   ]
  },
  {
   "cell_type": "markdown",
   "metadata": {},
   "source": [
    "### Surprise Data & Split "
   ]
  },
  {
   "cell_type": "code",
   "execution_count": 25,
   "metadata": {
    "ExecuteTime": {
     "end_time": "2022-06-02T15:28:39.664737Z",
     "start_time": "2022-06-02T15:28:38.558352Z"
    }
   },
   "outputs": [],
   "source": [
    "# Instantiate reader the same convention as a sklearn class\n",
    "reader = Reader(rating_scale = (0,1))\n",
    "# Load user_data from imported dataframe specifiyng which columns to use\n",
    "customer_data = Dataset.load_from_df(transactions[['customer_id', 'article_id', 'bought']], reader)"
   ]
  },
  {
   "cell_type": "code",
   "execution_count": 26,
   "metadata": {
    "ExecuteTime": {
     "end_time": "2022-06-02T15:28:39.763451Z",
     "start_time": "2022-06-02T15:28:39.755487Z"
    }
   },
   "outputs": [
    {
     "data": {
      "text/plain": [
       "surprise.dataset.DatasetAutoFolds"
      ]
     },
     "execution_count": 26,
     "metadata": {},
     "output_type": "execute_result"
    }
   ],
   "source": [
    "type(customer_data)"
   ]
  },
  {
   "cell_type": "code",
   "execution_count": 27,
   "metadata": {
    "ExecuteTime": {
     "end_time": "2022-06-02T15:28:42.213359Z",
     "start_time": "2022-06-02T15:28:39.866032Z"
    }
   },
   "outputs": [],
   "source": [
    "# Perform an appropriate split for the recommendation models\n",
    "trainset, testset = train_test_split(customer_data, test_size=0.2, random_state=42)"
   ]
  },
  {
   "cell_type": "code",
   "execution_count": 28,
   "metadata": {
    "ExecuteTime": {
     "end_time": "2022-06-02T15:28:43.012450Z",
     "start_time": "2022-06-02T15:28:43.008499Z"
    }
   },
   "outputs": [
    {
     "name": "stdout",
     "output_type": "stream",
     "text": [
      "Number of users:  172712 \n",
      "\n",
      "Number of items:  9225 \n",
      "\n"
     ]
    }
   ],
   "source": [
    "#How many users and items are in the trainset\n",
    "print('Number of users: ', trainset.n_users, '\\n')\n",
    "print('Number of items: ', trainset.n_items, '\\n')"
   ]
  },
  {
   "cell_type": "markdown",
   "metadata": {},
   "source": [
    "## Modeling"
   ]
  },
  {
   "cell_type": "markdown",
   "metadata": {},
   "source": [
    "### Baselines without cross validation"
   ]
  },
  {
   "cell_type": "code",
   "execution_count": 29,
   "metadata": {
    "ExecuteTime": {
     "end_time": "2022-06-02T05:57:32.955302Z",
     "start_time": "2022-06-02T05:57:30.978384Z"
    }
   },
   "outputs": [
    {
     "name": "stdout",
     "output_type": "stream",
     "text": [
      "RMSE: 0.0000\n"
     ]
    }
   ],
   "source": [
    "# Instantiate and fit model\n",
    "baseline = NormalPredictor()\n",
    "baseline.fit(trainset)\n",
    "\n",
    "# Return test predictions for model fit on trainset\n",
    "predictions = baseline.test(testset)\n",
    "\n",
    "# Save RMSE score to variable\n",
    "baseline_normal = accuracy.rmse(predictions)"
   ]
  },
  {
   "cell_type": "code",
   "execution_count": 30,
   "metadata": {
    "ExecuteTime": {
     "end_time": "2022-06-02T05:57:37.830376Z",
     "start_time": "2022-06-02T05:57:33.733620Z"
    }
   },
   "outputs": [
    {
     "name": "stdout",
     "output_type": "stream",
     "text": [
      "Estimating biases using als...\n",
      "RMSE: 0.0000\n"
     ]
    }
   ],
   "source": [
    "# Instantiate and fit model\n",
    "baseline2 = BaselineOnly()\n",
    "baseline2.fit(trainset)\n",
    "\n",
    "# Return test predictions for model fit on trainset\n",
    "predictions = baseline2.test(testset)\n",
    "\n",
    "# Save RMSE score to variable\n",
    "baseline_only = accuracy.rmse(predictions)"
   ]
  },
  {
   "cell_type": "markdown",
   "metadata": {},
   "source": [
    "### SVD"
   ]
  },
  {
   "cell_type": "code",
   "execution_count": 31,
   "metadata": {
    "ExecuteTime": {
     "end_time": "2022-05-25T22:59:25.739593Z",
     "start_time": "2022-05-25T22:58:43.389534Z"
    }
   },
   "outputs": [
    {
     "name": "stdout",
     "output_type": "stream",
     "text": [
      "RMSE: 0.0461\n"
     ]
    },
    {
     "data": {
      "text/plain": [
       "0.04608588445031557"
      ]
     },
     "execution_count": 31,
     "metadata": {},
     "output_type": "execute_result"
    }
   ],
   "source": [
    "svd_model = SVD()\n",
    "svd_model.fit(trainset)\n",
    "svd_predictions = svd_model.test(testset)\n",
    "svd_simple_predictions = accuracy.rmse(svd_predictions)\n",
    "svd_simple_predictions"
   ]
  },
  {
   "cell_type": "code",
   "execution_count": 32,
   "metadata": {
    "ExecuteTime": {
     "end_time": "2022-05-25T22:59:33.121099Z",
     "start_time": "2022-05-25T22:59:33.117147Z"
    }
   },
   "outputs": [
    {
     "data": {
      "text/plain": [
       "Prediction(uid='0008968c0d451dbc5a9968da03196fe20051965edde7413775c4eb3be9abe9c2', iid=902802002, r_ui=None, est=0.8960160319650246, details={'was_impossible': False})"
      ]
     },
     "execution_count": 32,
     "metadata": {},
     "output_type": "execute_result"
    }
   ],
   "source": [
    "svd_model.predict('0008968c0d451dbc5a9968da03196fe20051965edde7413775c4eb3be9abe9c2', 902802002)"
   ]
  },
  {
   "cell_type": "code",
   "execution_count": 33,
   "metadata": {
    "ExecuteTime": {
     "end_time": "2022-05-25T22:59:38.220479Z",
     "start_time": "2022-05-25T22:59:38.148054Z"
    }
   },
   "outputs": [
    {
     "data": {
      "text/html": [
       "<div>\n",
       "<style scoped>\n",
       "    .dataframe tbody tr th:only-of-type {\n",
       "        vertical-align: middle;\n",
       "    }\n",
       "\n",
       "    .dataframe tbody tr th {\n",
       "        vertical-align: top;\n",
       "    }\n",
       "\n",
       "    .dataframe thead th {\n",
       "        text-align: right;\n",
       "    }\n",
       "</style>\n",
       "<table border=\"1\" class=\"dataframe\">\n",
       "  <thead>\n",
       "    <tr style=\"text-align: right;\">\n",
       "      <th></th>\n",
       "      <th>InvoiceDate</th>\n",
       "      <th>customer_id</th>\n",
       "      <th>article_id</th>\n",
       "      <th>price</th>\n",
       "      <th>sales_channel_id</th>\n",
       "      <th>t_dat</th>\n",
       "      <th>date</th>\n",
       "      <th>bought</th>\n",
       "    </tr>\n",
       "  </thead>\n",
       "  <tbody>\n",
       "  </tbody>\n",
       "</table>\n",
       "</div>"
      ],
      "text/plain": [
       "Empty DataFrame\n",
       "Columns: [InvoiceDate, customer_id, article_id, price, sales_channel_id, t_dat, date, bought]\n",
       "Index: []"
      ]
     },
     "execution_count": 33,
     "metadata": {},
     "output_type": "execute_result"
    }
   ],
   "source": [
    "transactions.loc[(transactions['customer_id'] == '0008968c0d451dbc5a9968da03196fe20051965edde7413775c4eb3be9abe9c2') & \n",
    "                 (transactions['article_id'] == 902802002)]"
   ]
  },
  {
   "cell_type": "code",
   "execution_count": 34,
   "metadata": {
    "ExecuteTime": {
     "end_time": "2022-05-25T00:15:07.152240Z",
     "start_time": "2022-05-25T00:07:52.949948Z"
    }
   },
   "outputs": [
    {
     "name": "stderr",
     "output_type": "stream",
     "text": [
      "[Parallel(n_jobs=-2)]: Using backend LokyBackend with 15 concurrent workers.\n",
      "[Parallel(n_jobs=-2)]: Done  42 tasks      | elapsed:   54.5s\n",
      "[Parallel(n_jobs=-2)]: Done  68 out of  80 | elapsed:  1.5min remaining:   15.5s\n",
      "[Parallel(n_jobs=-2)]: Done  80 out of  80 | elapsed:  1.7min finished\n"
     ]
    },
    {
     "data": {
      "text/plain": [
       "{'rmse': {'n_factors': 10, 'n_epochs': 15, 'lr_all': 0.01, 'reg_all': 0.6}}"
      ]
     },
     "execution_count": 34,
     "metadata": {},
     "output_type": "execute_result"
    }
   ],
   "source": [
    "param_grid = {'n_factors':[10,50],'n_epochs': [5, 15], 'lr_all': [0.002,0.01],\n",
    "             'reg_all': [0.2,0.6]}\n",
    "gs_model_SVD1 = GridSearchCV(SVD,param_grid=param_grid,joblib_verbose=5, measures=['RMSE'], n_jobs=-2)\n",
    "gs_model_SVD1.fit(customer_data)\n",
    "\n",
    "gs_model_SVD1.best_params"
   ]
  },
  {
   "cell_type": "markdown",
   "metadata": {
    "ExecuteTime": {
     "start_time": "2022-05-24T23:59:48.096Z"
    }
   },
   "source": [
    "explain"
   ]
  },
  {
   "cell_type": "code",
   "execution_count": 35,
   "metadata": {
    "ExecuteTime": {
     "end_time": "2022-05-25T00:27:54.467357Z",
     "start_time": "2022-05-25T00:15:07.155681Z"
    }
   },
   "outputs": [
    {
     "name": "stderr",
     "output_type": "stream",
     "text": [
      "[Parallel(n_jobs=-2)]: Using backend LokyBackend with 15 concurrent workers.\n",
      "[Parallel(n_jobs=-2)]: Done  42 tasks      | elapsed:  1.0min\n",
      "[Parallel(n_jobs=-2)]: Done  68 out of  80 | elapsed:  1.7min remaining:   17.5s\n",
      "[Parallel(n_jobs=-2)]: Done  80 out of  80 | elapsed:  1.9min finished\n"
     ]
    },
    {
     "data": {
      "text/plain": [
       "{'rmse': {'n_factors': 5, 'n_epochs': 50, 'lr_all': 0.01, 'reg_all': 0.8}}"
      ]
     },
     "execution_count": 35,
     "metadata": {},
     "output_type": "execute_result"
    }
   ],
   "source": [
    "param_grid2 = {'n_factors':[5,10],'n_epochs': [15, 50], 'lr_all': [0.001, 0.01],\n",
    "             'reg_all': [0.6, 0.8]}\n",
    "gs_model_SVD2 = GridSearchCV(SVD,param_grid=param_grid2,joblib_verbose=5, measures=['RMSE'], n_jobs=-2)\n",
    "gs_model_SVD2.fit(customer_data)\n",
    "\n",
    "gs_model_SVD2.best_params"
   ]
  },
  {
   "cell_type": "markdown",
   "metadata": {
    "ExecuteTime": {
     "start_time": "2022-05-24T23:59:48.100Z"
    }
   },
   "source": [
    "explain"
   ]
  },
  {
   "cell_type": "code",
   "execution_count": 36,
   "metadata": {
    "ExecuteTime": {
     "end_time": "2022-05-25T00:39:45.200861Z",
     "start_time": "2022-05-25T00:27:54.471843Z"
    },
    "scrolled": true
   },
   "outputs": [
    {
     "name": "stderr",
     "output_type": "stream",
     "text": [
      "[Parallel(n_jobs=-2)]: Using backend LokyBackend with 15 concurrent workers.\n",
      "[Parallel(n_jobs=-2)]: Done  20 out of  40 | elapsed:   39.7s remaining:   39.7s\n",
      "[Parallel(n_jobs=-2)]: Done  29 out of  40 | elapsed:  1.1min remaining:   25.3s\n",
      "[Parallel(n_jobs=-2)]: Done  38 out of  40 | elapsed:  1.3min remaining:    4.0s\n",
      "[Parallel(n_jobs=-2)]: Done  40 out of  40 | elapsed:  1.3min finished\n"
     ]
    },
    {
     "data": {
      "text/plain": [
       "{'rmse': {'n_factors': 10, 'n_epochs': 100, 'lr_all': 0.2, 'reg_all': 0.8}}"
      ]
     },
     "execution_count": 36,
     "metadata": {},
     "output_type": "execute_result"
    }
   ],
   "source": [
    "param_grid3 = {'n_factors':[10],'n_epochs': [50, 100], 'lr_all': [0.1, 0.2],\n",
    "             'reg_all': [0.8, 0.9]}\n",
    "gs_model_SVD3 = GridSearchCV(SVD,param_grid=param_grid3,joblib_verbose=5, measures=['RMSE'], n_jobs=-2)\n",
    "gs_model_SVD3.fit(customer_data)\n",
    "\n",
    "gs_model_SVD3.best_params"
   ]
  },
  {
   "cell_type": "code",
   "execution_count": 37,
   "metadata": {
    "ExecuteTime": {
     "end_time": "2022-05-25T00:58:05.750318Z",
     "start_time": "2022-05-25T00:39:45.204654Z"
    },
    "scrolled": true
   },
   "outputs": [
    {
     "name": "stderr",
     "output_type": "stream",
     "text": [
      "[Parallel(n_jobs=-2)]: Using backend LokyBackend with 15 concurrent workers.\n",
      "[Parallel(n_jobs=-2)]: Done  20 out of  40 | elapsed:   59.9s remaining:   59.9s\n",
      "[Parallel(n_jobs=-2)]: Done  29 out of  40 | elapsed:  1.5min remaining:   34.2s\n",
      "[Parallel(n_jobs=-2)]: Done  38 out of  40 | elapsed:  1.8min remaining:    5.6s\n",
      "[Parallel(n_jobs=-2)]: Done  40 out of  40 | elapsed:  1.8min finished\n"
     ]
    },
    {
     "data": {
      "text/plain": [
       "{'rmse': {'n_factors': 10, 'n_epochs': 100, 'lr_all': 0.3, 'reg_all': 0.7}}"
      ]
     },
     "execution_count": 37,
     "metadata": {},
     "output_type": "execute_result"
    }
   ],
   "source": [
    "param_grid4 = {'n_factors':[10],'n_epochs': [100, 150], 'lr_all': [0.2, 0.3],\n",
    "             'reg_all': [0.7, 0.8]}\n",
    "gs_model_SVD4 = GridSearchCV(SVD,param_grid=param_grid4,joblib_verbose=5, measures=['RMSE'], n_jobs=-2)\n",
    "gs_model_SVD4.fit(customer_data)\n",
    "\n",
    "gs_model_SVD4.best_params"
   ]
  },
  {
   "cell_type": "markdown",
   "metadata": {},
   "source": [
    "We find the best parameters for SVD modeling are - \n",
    "- n_factors : 10\n",
    "- n_epochs : 100\n",
    "- lr_all :0.2\n",
    "- reg_all : 0.8\n",
    "\n",
    "Now we build a model with the best parameters and test it on our testset."
   ]
  },
  {
   "cell_type": "code",
   "execution_count": 38,
   "metadata": {
    "ExecuteTime": {
     "end_time": "2022-05-25T23:00:30.810968Z",
     "start_time": "2022-05-25T22:59:56.884682Z"
    }
   },
   "outputs": [
    {
     "name": "stdout",
     "output_type": "stream",
     "text": [
      "RMSE: 0.0114\n"
     ]
    },
    {
     "data": {
      "text/plain": [
       "0.011364248536909594"
      ]
     },
     "execution_count": 38,
     "metadata": {},
     "output_type": "execute_result"
    }
   ],
   "source": [
    "svd_model2 = SVD(n_factors= 10, n_epochs= 50)\n",
    "svd_model2.fit(trainset)\n",
    "svd_predictions2 = svd_model2.test(testset)\n",
    "svd_tuned_predictions = accuracy.rmse(svd_predictions2)\n",
    "svd_tuned_predictions"
   ]
  },
  {
   "cell_type": "markdown",
   "metadata": {},
   "source": [
    "### NFM "
   ]
  },
  {
   "cell_type": "markdown",
   "metadata": {
    "ExecuteTime": {
     "end_time": "2022-05-24T21:45:37.922853Z",
     "start_time": "2022-05-24T21:45:37.919310Z"
    }
   },
   "source": [
    "Now, we explore the `Non-negative Matrix Factorization (NMF)` from the `suprise` library. The only difference between this algorithm and the previous algorithm SVD is that in NMF, a specific step size is set for the stochastic gradient descent process of regularization. This is done to ensure that all user and item factors are kept positive. While this model can be prone to over-fitting, this can be mitigated with steps to reduce the dimensionality of our data/factors."
   ]
  },
  {
   "cell_type": "code",
   "execution_count": 39,
   "metadata": {
    "ExecuteTime": {
     "end_time": "2022-06-02T06:01:08.459609Z",
     "start_time": "2022-06-02T06:00:15.540614Z"
    }
   },
   "outputs": [
    {
     "name": "stdout",
     "output_type": "stream",
     "text": [
      "RMSE: 0.0679\n"
     ]
    },
    {
     "data": {
      "text/plain": [
       "0.06785567534870594"
      ]
     },
     "execution_count": 39,
     "metadata": {},
     "output_type": "execute_result"
    }
   ],
   "source": [
    "nmf_model = NMF()\n",
    "nmf_model.fit(trainset)\n",
    "nmf_predictions = nmf_model.test(testset)\n",
    "nmf_simple_predictions = accuracy.rmse(nmf_predictions)\n",
    "nmf_simple_predictions"
   ]
  },
  {
   "cell_type": "code",
   "execution_count": 40,
   "metadata": {
    "ExecuteTime": {
     "end_time": "2022-05-25T01:56:54.072168Z",
     "start_time": "2022-05-25T01:40:51.885215Z"
    }
   },
   "outputs": [
    {
     "name": "stderr",
     "output_type": "stream",
     "text": [
      "[Parallel(n_jobs=-2)]: Using backend LokyBackend with 15 concurrent workers.\n",
      "[Parallel(n_jobs=-2)]: Done  26 out of  45 | elapsed:  1.5min remaining:  1.1min\n",
      "[Parallel(n_jobs=-2)]: Done  36 out of  45 | elapsed:  2.2min remaining:   33.0s\n",
      "[Parallel(n_jobs=-2)]: Done  45 out of  45 | elapsed:  2.7min finished\n"
     ]
    },
    {
     "data": {
      "text/plain": [
       "{'rmse': {'n_factors': 10, 'n_epochs': 75}}"
      ]
     },
     "execution_count": 40,
     "metadata": {},
     "output_type": "execute_result"
    }
   ],
   "source": [
    "param_grid = {'n_factors':[10,15,20],'n_epochs': [25, 50, 75]}\n",
    "gs_model_NFM = GridSearchCV(NMF,param_grid=param_grid,joblib_verbose=5, measures=['RMSE'], n_jobs=-2)\n",
    "gs_model_NFM.fit(customer_data)\n",
    "\n",
    "gs_model_NFM.best_params"
   ]
  },
  {
   "cell_type": "markdown",
   "metadata": {},
   "source": [
    "explain"
   ]
  },
  {
   "cell_type": "code",
   "execution_count": 41,
   "metadata": {
    "ExecuteTime": {
     "end_time": "2022-06-02T06:00:14.148936Z",
     "start_time": "2022-06-02T06:00:08.645Z"
    }
   },
   "outputs": [
    {
     "name": "stderr",
     "output_type": "stream",
     "text": [
      "[Parallel(n_jobs=-2)]: Using backend LokyBackend with 15 concurrent workers.\n",
      "[Parallel(n_jobs=-2)]: Done   2 out of  10 | elapsed:   42.5s remaining:  2.8min\n",
      "[Parallel(n_jobs=-2)]: Done   5 out of  10 | elapsed:   46.5s remaining:   46.5s\n",
      "[Parallel(n_jobs=-2)]: Done   8 out of  10 | elapsed:  1.0min remaining:   15.3s\n",
      "[Parallel(n_jobs=-2)]: Done  10 out of  10 | elapsed:  1.1min finished\n"
     ]
    },
    {
     "data": {
      "text/plain": [
       "{'rmse': {'n_factors': 10, 'n_epochs': 100}}"
      ]
     },
     "execution_count": 41,
     "metadata": {},
     "output_type": "execute_result"
    }
   ],
   "source": [
    "param_grid = {'n_factors':[10],'n_epochs': [75, 100]}\n",
    "gs_model_NFM2 = GridSearchCV(NMF,param_grid=param_grid,joblib_verbose=5, measures=['RMSE'], n_jobs=-2)\n",
    "gs_model_NFM2.fit(customer_data)\n",
    "\n",
    "gs_model_NFM2.best_params"
   ]
  },
  {
   "cell_type": "markdown",
   "metadata": {
    "ExecuteTime": {
     "start_time": "2022-05-24T23:59:48.140Z"
    }
   },
   "source": [
    "Explain"
   ]
  },
  {
   "cell_type": "markdown",
   "metadata": {},
   "source": [
    "We find the best parameters for NMF modeling are - \n",
    "- n_factors : 10\n",
    "- n_epochs : 100\n",
    "\n",
    "Now we build a model with the best parameters and test it on our testset."
   ]
  },
  {
   "cell_type": "code",
   "execution_count": 42,
   "metadata": {
    "ExecuteTime": {
     "end_time": "2022-06-02T06:02:38.289345Z",
     "start_time": "2022-06-02T06:01:09.922207Z"
    }
   },
   "outputs": [
    {
     "name": "stdout",
     "output_type": "stream",
     "text": [
      "RMSE: 0.0583\n"
     ]
    },
    {
     "data": {
      "text/plain": [
       "0.05832131120746777"
      ]
     },
     "execution_count": 42,
     "metadata": {},
     "output_type": "execute_result"
    }
   ],
   "source": [
    "nmf_model2 = NMF(n_factors = 10, n_epochs = 100)\n",
    "nmf_model2.fit(trainset)\n",
    "nmf_predictions2 = nmf_model2.test(testset)\n",
    "nmf_tuned_predictions = accuracy.rmse(nmf_predictions2)\n",
    "\n",
    "nmf_tuned_predictions"
   ]
  },
  {
   "cell_type": "markdown",
   "metadata": {},
   "source": [
    "## SVD ++ "
   ]
  },
  {
   "cell_type": "markdown",
   "metadata": {},
   "source": [
    "For a final look at models from the `surprise` library, I wanted to try and utilize the SVD++ algorithm, again, very similar to SVD. The difference is that SVD++ attempts to add an extension onto the base SVD that uses implicit rating as well as explicit. In other words it infers the action of rating an item as a latent factor regardless of the rating value given to the item while also factoring the actual rating value. I thought this might further improve the RMSE by taking into account reviewers who have rated a large number of eBooks. Please note that this Grid Search will take a very long time to run."
   ]
  },
  {
   "cell_type": "code",
   "execution_count": 43,
   "metadata": {
    "ExecuteTime": {
     "end_time": "2022-06-02T06:04:07.907947Z",
     "start_time": "2022-06-02T06:02:40.285726Z"
    }
   },
   "outputs": [
    {
     "name": "stdout",
     "output_type": "stream",
     "text": [
      "RMSE: 0.0208\n"
     ]
    },
    {
     "data": {
      "text/plain": [
       "0.02083839910408741"
      ]
     },
     "execution_count": 43,
     "metadata": {},
     "output_type": "execute_result"
    }
   ],
   "source": [
    "# Instantiate - fit on trainset - score the model on testset\n",
    "SVDpp_model = SVDpp()\n",
    "SVDpp_model.fit(trainset)\n",
    "SVDpp_predictions = SVDpp_model.test(testset)\n",
    "svdpp_simple_predictions = accuracy.rmse(SVDpp_predictions)\n",
    "\n",
    "svdpp_simple_predictions"
   ]
  },
  {
   "cell_type": "code",
   "execution_count": 44,
   "metadata": {
    "ExecuteTime": {
     "end_time": "2022-05-25T02:22:17.411191Z",
     "start_time": "2022-05-25T02:06:21.799235Z"
    },
    "scrolled": true
   },
   "outputs": [
    {
     "name": "stderr",
     "output_type": "stream",
     "text": [
      "[Parallel(n_jobs=-2)]: Using backend LokyBackend with 15 concurrent workers.\n",
      "[Parallel(n_jobs=-2)]: Done   5 out of  24 | elapsed:   20.5s remaining:  1.3min\n",
      "[Parallel(n_jobs=-2)]: Done  10 out of  24 | elapsed:   33.1s remaining:   46.4s\n",
      "[Parallel(n_jobs=-2)]: Done  15 out of  24 | elapsed:   37.1s remaining:   22.2s\n",
      "[Parallel(n_jobs=-2)]: Done  20 out of  24 | elapsed:   50.3s remaining:   10.0s\n",
      "[Parallel(n_jobs=-2)]: Done  24 out of  24 | elapsed:   55.0s finished\n"
     ]
    },
    {
     "data": {
      "text/plain": [
       "{'rmse': {'n_factors': 1, 'n_epochs': 50, 'reg_all': 0.05}}"
      ]
     },
     "execution_count": 44,
     "metadata": {},
     "output_type": "execute_result"
    }
   ],
   "source": [
    "# New dictionary for SVD++\n",
    "svdpp_param_grid = {'n_factors':[1, 5], 'n_epochs':[25, 50], 'reg_all':[0.02, 0.05]}\n",
    "svdpp_gs_model = GridSearchCV(SVDpp, param_grid=svdpp_param_grid, cv=3, joblib_verbose=5, n_jobs=-2, measures=['RMSE'])\n",
    "\n",
    "# Fit and return the best_params based on cross validation this will take a VERY long time to run\n",
    "svdpp_gs_model.fit(customer_data)\n",
    "\n",
    "svdpp_gs_model.best_params"
   ]
  },
  {
   "cell_type": "markdown",
   "metadata": {
    "ExecuteTime": {
     "start_time": "2022-05-24T23:59:48.148Z"
    }
   },
   "source": [
    "explain"
   ]
  },
  {
   "cell_type": "code",
   "execution_count": 45,
   "metadata": {
    "ExecuteTime": {
     "end_time": "2022-05-25T02:45:01.189734Z",
     "start_time": "2022-05-25T02:29:57.396514Z"
    }
   },
   "outputs": [
    {
     "name": "stderr",
     "output_type": "stream",
     "text": [
      "[Parallel(n_jobs=-2)]: Using backend LokyBackend with 15 concurrent workers.\n",
      "[Parallel(n_jobs=-2)]: Done   4 out of  12 | elapsed:   24.5s remaining:   49.1s\n",
      "[Parallel(n_jobs=-2)]: Done   7 out of  12 | elapsed:   41.5s remaining:   29.6s\n",
      "[Parallel(n_jobs=-2)]: Done  10 out of  12 | elapsed:   44.3s remaining:    8.8s\n",
      "[Parallel(n_jobs=-2)]: Done  12 out of  12 | elapsed:   45.6s finished\n"
     ]
    },
    {
     "data": {
      "text/plain": [
       "{'rmse': {'n_factors': 1, 'n_epochs': 100, 'reg_all': 0.1}}"
      ]
     },
     "execution_count": 45,
     "metadata": {},
     "output_type": "execute_result"
    }
   ],
   "source": [
    "# New dictionary for SVD++\n",
    "svdpp_param_grid2 = {'n_factors':[1], 'n_epochs':[50, 100], 'reg_all':[0.05, 0.1]}\n",
    "svdpp_gs_model2 = GridSearchCV(SVDpp, param_grid=svdpp_param_grid2, cv=3, joblib_verbose=5, n_jobs=-2, measures=['RMSE'])\n",
    "\n",
    "# Fit and return the best_params based on cross validation this will take a VERY long time to run\n",
    "svdpp_gs_model2.fit(customer_data)\n",
    "\n",
    "svdpp_gs_model2.best_params"
   ]
  },
  {
   "cell_type": "markdown",
   "metadata": {},
   "source": [
    "We find the best parameters for SVD ++ modeling are - \n",
    "- n_factors : 1\n",
    "- n_epochs : 100\n",
    "- reg_all : 0.1\n",
    "\n",
    "Now we build a model with the best parameters and test it on our testset."
   ]
  },
  {
   "cell_type": "code",
   "execution_count": 46,
   "metadata": {
    "ExecuteTime": {
     "end_time": "2022-06-02T06:13:37.806768Z",
     "start_time": "2022-06-02T06:08:47.315011Z"
    }
   },
   "outputs": [
    {
     "name": "stdout",
     "output_type": "stream",
     "text": [
      "RMSE: 0.0009\n"
     ]
    },
    {
     "data": {
      "text/plain": [
       "0.0008546183467827918"
      ]
     },
     "execution_count": 46,
     "metadata": {},
     "output_type": "execute_result"
    }
   ],
   "source": [
    "# Instantiate - fit on trainset - score the model on testset\n",
    "SVDpp_model2 = SVDpp(n_factors=1, n_epochs=100, reg_all=0.1)\n",
    "SVDpp_model2.fit(trainset)\n",
    "SVDpp_predictions2 = SVDpp_model2.test(testset)\n",
    "svdpp_tuned_predictions = accuracy.rmse(SVDpp_predictions2)\n",
    "\n",
    "svdpp_tuned_predictions"
   ]
  },
  {
   "cell_type": "markdown",
   "metadata": {},
   "source": [
    "## Model Performance"
   ]
  },
  {
   "cell_type": "code",
   "execution_count": 47,
   "metadata": {
    "ExecuteTime": {
     "end_time": "2022-06-02T06:16:34.636419Z",
     "start_time": "2022-06-02T06:16:34.633528Z"
    }
   },
   "outputs": [],
   "source": [
    "# # just to code ahead! \n",
    "baseline_only = 0.00\n",
    "svd_simple_predictions = 0.0463\n",
    "svd_tuned_predictions = 0.0115\n",
    "nmf_simple_predictions = 0.0676\n",
    "nmf_tuned_predictions = 0.0582\n",
    "svdpp_simple_predictions = 0.0206\n",
    "svdpp_tuned_predictions = 0.0207"
   ]
  },
  {
   "cell_type": "code",
   "execution_count": 48,
   "metadata": {
    "ExecuteTime": {
     "end_time": "2022-06-02T06:16:37.808242Z",
     "start_time": "2022-06-02T06:16:37.804748Z"
    }
   },
   "outputs": [],
   "source": [
    "X = ['Baseline', 'SVD Basic', 'SVD Tuned', 'NMF Basic', 'NMF tuned', 'SVD ++ Basic', 'SVD ++ Tuned']\n",
    "y = [baseline_only, svd_simple_predictions, svd_tuned_predictions, nmf_simple_predictions, nmf_tuned_predictions, svdpp_simple_predictions, svdpp_tuned_predictions]"
   ]
  },
  {
   "cell_type": "code",
   "execution_count": 49,
   "metadata": {
    "ExecuteTime": {
     "end_time": "2022-06-02T06:16:57.323163Z",
     "start_time": "2022-06-02T06:16:56.784874Z"
    }
   },
   "outputs": [
    {
     "data": {
      "image/png": "[encoded data removed]",
      "text/plain": [
       "<Figure size 640x480 with 1 Axes>"
      ]
     },
     "metadata": {},
     "output_type": "display_data"
    }
   ],
   "source": [
    "fig, ax = plt.subplots()\n",
    "plt.bar(X, y, color=['black', 'green', 'blue', 'blue', 'blue', 'blue', 'blue'])\n",
    "plt.xticks(rotation=90)\n",
    "plt.ylim(0, .075)\n",
    "plt.grid(False)\n",
    "ax.set_title(\"Surprise Models\")\n",
    "plt.ylabel('Root Mean Squared Error (RMSE)')\n",
    "plt.savefig('Images/Model_bar.png', dpi=500, bbox_inches='tight');"
   ]
  },
  {
   "cell_type": "markdown",
   "metadata": {},
   "source": [
    "# Recommendation Function"
   ]
  },
  {
   "cell_type": "markdown",
   "metadata": {},
   "source": [
    "### Building"
   ]
  },
  {
   "cell_type": "markdown",
   "metadata": {},
   "source": [
    "##### Final Model"
   ]
  },
  {
   "cell_type": "code",
   "execution_count": 50,
   "metadata": {
    "ExecuteTime": {
     "end_time": "2022-06-02T15:57:14.489035Z",
     "start_time": "2022-06-02T15:57:13.186395Z"
    }
   },
   "outputs": [],
   "source": [
    "# Using Surprise a full trainset incorporating all data can be built and fit to the model in order to make full predictions\n",
    "trainset_full = customer_data.build_full_trainset()"
   ]
  },
  {
   "cell_type": "code",
   "execution_count": 51,
   "metadata": {
    "ExecuteTime": {
     "end_time": "2022-06-02T15:57:51.281198Z",
     "start_time": "2022-06-02T15:57:15.225830Z"
    }
   },
   "outputs": [
    {
     "data": {
      "text/plain": [
       "<surprise.prediction_algorithms.matrix_factorization.SVD at 0x11ddd30e630>"
      ]
     },
     "execution_count": 51,
     "metadata": {},
     "output_type": "execute_result"
    }
   ],
   "source": [
    "final_model = SVD(n_factors= 10, n_epochs= 50)\n",
    "final_model.fit(trainset_full)"
   ]
  },
  {
   "cell_type": "code",
   "execution_count": 52,
   "metadata": {
    "ExecuteTime": {
     "end_time": "2022-06-02T15:57:52.743944Z",
     "start_time": "2022-06-02T15:57:51.988723Z"
    }
   },
   "outputs": [],
   "source": [
    "# The model is pickled and saved into the Model folder in the repository so it can used in the app.py file\n",
    "pickle.dump(final_model, open('Model/collaborative_model.sav', 'wb'))"
   ]
  },
  {
   "cell_type": "code",
   "execution_count": 53,
   "metadata": {
    "ExecuteTime": {
     "end_time": "2022-06-02T15:57:54.747363Z",
     "start_time": "2022-06-02T15:57:53.448037Z"
    }
   },
   "outputs": [],
   "source": [
    "collab_model = pickle.load(open('Model/collaborative_model.sav', 'rb'))"
   ]
  },
  {
   "cell_type": "code",
   "execution_count": 54,
   "metadata": {
    "ExecuteTime": {
     "end_time": "2022-06-02T15:57:55.468212Z",
     "start_time": "2022-06-02T15:57:55.454220Z"
    }
   },
   "outputs": [
    {
     "data": {
      "text/html": [
       "<div>\n",
       "<style scoped>\n",
       "    .dataframe tbody tr th:only-of-type {\n",
       "        vertical-align: middle;\n",
       "    }\n",
       "\n",
       "    .dataframe tbody tr th {\n",
       "        vertical-align: top;\n",
       "    }\n",
       "\n",
       "    .dataframe thead th {\n",
       "        text-align: right;\n",
       "    }\n",
       "</style>\n",
       "<table border=\"1\" class=\"dataframe\">\n",
       "  <thead>\n",
       "    <tr style=\"text-align: right;\">\n",
       "      <th></th>\n",
       "      <th>InvoiceDate</th>\n",
       "      <th>customer_id</th>\n",
       "      <th>article_id</th>\n",
       "      <th>price</th>\n",
       "      <th>sales_channel_id</th>\n",
       "      <th>t_dat</th>\n",
       "      <th>date</th>\n",
       "      <th>bought</th>\n",
       "    </tr>\n",
       "  </thead>\n",
       "  <tbody>\n",
       "    <tr>\n",
       "      <th>671664</th>\n",
       "      <td>2020-09-22</td>\n",
       "      <td>ff732b98019465f078144bae647d7d9765d76e3431ef92...</td>\n",
       "      <td>651591001</td>\n",
       "      <td>0.032186</td>\n",
       "      <td>2</td>\n",
       "      <td>2020-09-22</td>\n",
       "      <td>2020-09-22</td>\n",
       "      <td>1</td>\n",
       "    </tr>\n",
       "    <tr>\n",
       "      <th>671665</th>\n",
       "      <td>2020-09-22</td>\n",
       "      <td>ff732b98019465f078144bae647d7d9765d76e3431ef92...</td>\n",
       "      <td>864339003</td>\n",
       "      <td>0.022017</td>\n",
       "      <td>2</td>\n",
       "      <td>2020-09-22</td>\n",
       "      <td>2020-09-22</td>\n",
       "      <td>1</td>\n",
       "    </tr>\n",
       "    <tr>\n",
       "      <th>671666</th>\n",
       "      <td>2020-09-22</td>\n",
       "      <td>ff732b98019465f078144bae647d7d9765d76e3431ef92...</td>\n",
       "      <td>938667001</td>\n",
       "      <td>0.010153</td>\n",
       "      <td>2</td>\n",
       "      <td>2020-09-22</td>\n",
       "      <td>2020-09-22</td>\n",
       "      <td>1</td>\n",
       "    </tr>\n",
       "    <tr>\n",
       "      <th>671667</th>\n",
       "      <td>2020-09-22</td>\n",
       "      <td>ffb72741f3bc3d98855703b55d34e05bc7893a5d6a99a3...</td>\n",
       "      <td>762846006</td>\n",
       "      <td>0.025407</td>\n",
       "      <td>2</td>\n",
       "      <td>2020-09-22</td>\n",
       "      <td>2020-09-22</td>\n",
       "      <td>1</td>\n",
       "    </tr>\n",
       "    <tr>\n",
       "      <th>671668</th>\n",
       "      <td>2020-09-22</td>\n",
       "      <td>ffb72741f3bc3d98855703b55d34e05bc7893a5d6a99a3...</td>\n",
       "      <td>762846027</td>\n",
       "      <td>0.025407</td>\n",
       "      <td>2</td>\n",
       "      <td>2020-09-22</td>\n",
       "      <td>2020-09-22</td>\n",
       "      <td>1</td>\n",
       "    </tr>\n",
       "    <tr>\n",
       "      <th>671669</th>\n",
       "      <td>2020-09-22</td>\n",
       "      <td>ffb72741f3bc3d98855703b55d34e05bc7893a5d6a99a3...</td>\n",
       "      <td>914404001</td>\n",
       "      <td>0.042356</td>\n",
       "      <td>2</td>\n",
       "      <td>2020-09-22</td>\n",
       "      <td>2020-09-22</td>\n",
       "      <td>1</td>\n",
       "    </tr>\n",
       "    <tr>\n",
       "      <th>671670</th>\n",
       "      <td>2020-09-22</td>\n",
       "      <td>ffb72741f3bc3d98855703b55d34e05bc7893a5d6a99a3...</td>\n",
       "      <td>751471041</td>\n",
       "      <td>0.033881</td>\n",
       "      <td>2</td>\n",
       "      <td>2020-09-22</td>\n",
       "      <td>2020-09-22</td>\n",
       "      <td>1</td>\n",
       "    </tr>\n",
       "    <tr>\n",
       "      <th>671671</th>\n",
       "      <td>2020-09-22</td>\n",
       "      <td>ffb72741f3bc3d98855703b55d34e05bc7893a5d6a99a3...</td>\n",
       "      <td>751471038</td>\n",
       "      <td>0.033881</td>\n",
       "      <td>2</td>\n",
       "      <td>2020-09-22</td>\n",
       "      <td>2020-09-22</td>\n",
       "      <td>1</td>\n",
       "    </tr>\n",
       "    <tr>\n",
       "      <th>671672</th>\n",
       "      <td>2020-09-22</td>\n",
       "      <td>ffc92c3f7b0b302f393c2968b290f6e5c5b5510d1cf1df...</td>\n",
       "      <td>895730002</td>\n",
       "      <td>0.045746</td>\n",
       "      <td>2</td>\n",
       "      <td>2020-09-22</td>\n",
       "      <td>2020-09-22</td>\n",
       "      <td>1</td>\n",
       "    </tr>\n",
       "    <tr>\n",
       "      <th>671673</th>\n",
       "      <td>2020-09-22</td>\n",
       "      <td>ffc92c3f7b0b302f393c2968b290f6e5c5b5510d1cf1df...</td>\n",
       "      <td>740519002</td>\n",
       "      <td>0.045746</td>\n",
       "      <td>2</td>\n",
       "      <td>2020-09-22</td>\n",
       "      <td>2020-09-22</td>\n",
       "      <td>1</td>\n",
       "    </tr>\n",
       "  </tbody>\n",
       "</table>\n",
       "</div>"
      ],
      "text/plain": [
       "       InvoiceDate                                        customer_id  \\\n",
       "671664  2020-09-22  ff732b98019465f078144bae647d7d9765d76e3431ef92...   \n",
       "671665  2020-09-22  ff732b98019465f078144bae647d7d9765d76e3431ef92...   \n",
       "671666  2020-09-22  ff732b98019465f078144bae647d7d9765d76e3431ef92...   \n",
       "671667  2020-09-22  ffb72741f3bc3d98855703b55d34e05bc7893a5d6a99a3...   \n",
       "671668  2020-09-22  ffb72741f3bc3d98855703b55d34e05bc7893a5d6a99a3...   \n",
       "671669  2020-09-22  ffb72741f3bc3d98855703b55d34e05bc7893a5d6a99a3...   \n",
       "671670  2020-09-22  ffb72741f3bc3d98855703b55d34e05bc7893a5d6a99a3...   \n",
       "671671  2020-09-22  ffb72741f3bc3d98855703b55d34e05bc7893a5d6a99a3...   \n",
       "671672  2020-09-22  ffc92c3f7b0b302f393c2968b290f6e5c5b5510d1cf1df...   \n",
       "671673  2020-09-22  ffc92c3f7b0b302f393c2968b290f6e5c5b5510d1cf1df...   \n",
       "\n",
       "        article_id     price  sales_channel_id       t_dat        date  bought  \n",
       "671664   651591001  0.032186                 2  2020-09-22  2020-09-22       1  \n",
       "671665   864339003  0.022017                 2  2020-09-22  2020-09-22       1  \n",
       "671666   938667001  0.010153                 2  2020-09-22  2020-09-22       1  \n",
       "671667   762846006  0.025407                 2  2020-09-22  2020-09-22       1  \n",
       "671668   762846027  0.025407                 2  2020-09-22  2020-09-22       1  \n",
       "671669   914404001  0.042356                 2  2020-09-22  2020-09-22       1  \n",
       "671670   751471041  0.033881                 2  2020-09-22  2020-09-22       1  \n",
       "671671   751471038  0.033881                 2  2020-09-22  2020-09-22       1  \n",
       "671672   895730002  0.045746                 2  2020-09-22  2020-09-22       1  \n",
       "671673   740519002  0.045746                 2  2020-09-22  2020-09-22       1  "
      ]
     },
     "execution_count": 54,
     "metadata": {},
     "output_type": "execute_result"
    }
   ],
   "source": [
    "transactions.tail(10)"
   ]
  },
  {
   "cell_type": "markdown",
   "metadata": {},
   "source": [
    "Start from here... \n",
    "- we have to load the articles df here as meta data with article id as the index \n",
    "- build function"
   ]
  },
  {
   "cell_type": "code",
   "execution_count": 55,
   "metadata": {
    "ExecuteTime": {
     "end_time": "2022-06-02T15:57:56.964472Z",
     "start_time": "2022-06-02T15:57:56.216407Z"
    }
   },
   "outputs": [
    {
     "data": {
      "text/html": [
       "<div>\n",
       "<style scoped>\n",
       "    .dataframe tbody tr th:only-of-type {\n",
       "        vertical-align: middle;\n",
       "    }\n",
       "\n",
       "    .dataframe tbody tr th {\n",
       "        vertical-align: top;\n",
       "    }\n",
       "\n",
       "    .dataframe thead th {\n",
       "        text-align: right;\n",
       "    }\n",
       "</style>\n",
       "<table border=\"1\" class=\"dataframe\">\n",
       "  <thead>\n",
       "    <tr style=\"text-align: right;\">\n",
       "      <th></th>\n",
       "      <th>product_code</th>\n",
       "      <th>prod_name</th>\n",
       "      <th>product_type_no</th>\n",
       "      <th>product_type_name</th>\n",
       "      <th>product_group_name</th>\n",
       "      <th>graphical_appearance_no</th>\n",
       "      <th>graphical_appearance_name</th>\n",
       "      <th>colour_group_code</th>\n",
       "      <th>colour_group_name</th>\n",
       "      <th>perceived_colour_value_id</th>\n",
       "      <th>perceived_colour_value_name</th>\n",
       "      <th>perceived_colour_master_id</th>\n",
       "      <th>perceived_colour_master_name</th>\n",
       "      <th>department_no</th>\n",
       "      <th>department_name</th>\n",
       "      <th>index_code</th>\n",
       "      <th>index_name</th>\n",
       "      <th>index_group_no</th>\n",
       "      <th>index_group_name</th>\n",
       "      <th>section_no</th>\n",
       "      <th>section_name</th>\n",
       "      <th>garment_group_no</th>\n",
       "      <th>garment_group_name</th>\n",
       "      <th>detail_desc</th>\n",
       "    </tr>\n",
       "    <tr>\n",
       "      <th>article_id</th>\n",
       "      <th></th>\n",
       "      <th></th>\n",
       "      <th></th>\n",
       "      <th></th>\n",
       "      <th></th>\n",
       "      <th></th>\n",
       "      <th></th>\n",
       "      <th></th>\n",
       "      <th></th>\n",
       "      <th></th>\n",
       "      <th></th>\n",
       "      <th></th>\n",
       "      <th></th>\n",
       "      <th></th>\n",
       "      <th></th>\n",
       "      <th></th>\n",
       "      <th></th>\n",
       "      <th></th>\n",
       "      <th></th>\n",
       "      <th></th>\n",
       "      <th></th>\n",
       "      <th></th>\n",
       "      <th></th>\n",
       "      <th></th>\n",
       "    </tr>\n",
       "  </thead>\n",
       "  <tbody>\n",
       "    <tr>\n",
       "      <th>108775015</th>\n",
       "      <td>108775</td>\n",
       "      <td>Strap top</td>\n",
       "      <td>253</td>\n",
       "      <td>Vest top</td>\n",
       "      <td>Garment Upper body</td>\n",
       "      <td>1010016</td>\n",
       "      <td>Solid</td>\n",
       "      <td>9</td>\n",
       "      <td>Black</td>\n",
       "      <td>4</td>\n",
       "      <td>Dark</td>\n",
       "      <td>5</td>\n",
       "      <td>Black</td>\n",
       "      <td>1676</td>\n",
       "      <td>Jersey Basic</td>\n",
       "      <td>A</td>\n",
       "      <td>Ladieswear</td>\n",
       "      <td>1</td>\n",
       "      <td>Ladieswear</td>\n",
       "      <td>16</td>\n",
       "      <td>Womens Everyday Basics</td>\n",
       "      <td>1002</td>\n",
       "      <td>Jersey Basic</td>\n",
       "      <td>Jersey top with narrow shoulder straps.</td>\n",
       "    </tr>\n",
       "    <tr>\n",
       "      <th>108775044</th>\n",
       "      <td>108775</td>\n",
       "      <td>Strap top</td>\n",
       "      <td>253</td>\n",
       "      <td>Vest top</td>\n",
       "      <td>Garment Upper body</td>\n",
       "      <td>1010016</td>\n",
       "      <td>Solid</td>\n",
       "      <td>10</td>\n",
       "      <td>White</td>\n",
       "      <td>3</td>\n",
       "      <td>Light</td>\n",
       "      <td>9</td>\n",
       "      <td>White</td>\n",
       "      <td>1676</td>\n",
       "      <td>Jersey Basic</td>\n",
       "      <td>A</td>\n",
       "      <td>Ladieswear</td>\n",
       "      <td>1</td>\n",
       "      <td>Ladieswear</td>\n",
       "      <td>16</td>\n",
       "      <td>Womens Everyday Basics</td>\n",
       "      <td>1002</td>\n",
       "      <td>Jersey Basic</td>\n",
       "      <td>Jersey top with narrow shoulder straps.</td>\n",
       "    </tr>\n",
       "    <tr>\n",
       "      <th>108775051</th>\n",
       "      <td>108775</td>\n",
       "      <td>Strap top (1)</td>\n",
       "      <td>253</td>\n",
       "      <td>Vest top</td>\n",
       "      <td>Garment Upper body</td>\n",
       "      <td>1010017</td>\n",
       "      <td>Stripe</td>\n",
       "      <td>11</td>\n",
       "      <td>Off White</td>\n",
       "      <td>1</td>\n",
       "      <td>Dusty Light</td>\n",
       "      <td>9</td>\n",
       "      <td>White</td>\n",
       "      <td>1676</td>\n",
       "      <td>Jersey Basic</td>\n",
       "      <td>A</td>\n",
       "      <td>Ladieswear</td>\n",
       "      <td>1</td>\n",
       "      <td>Ladieswear</td>\n",
       "      <td>16</td>\n",
       "      <td>Womens Everyday Basics</td>\n",
       "      <td>1002</td>\n",
       "      <td>Jersey Basic</td>\n",
       "      <td>Jersey top with narrow shoulder straps.</td>\n",
       "    </tr>\n",
       "  </tbody>\n",
       "</table>\n",
       "</div>"
      ],
      "text/plain": [
       "            product_code      prod_name  product_type_no product_type_name  \\\n",
       "article_id                                                                   \n",
       "108775015         108775      Strap top              253          Vest top   \n",
       "108775044         108775      Strap top              253          Vest top   \n",
       "108775051         108775  Strap top (1)              253          Vest top   \n",
       "\n",
       "            product_group_name  graphical_appearance_no  \\\n",
       "article_id                                                \n",
       "108775015   Garment Upper body                  1010016   \n",
       "108775044   Garment Upper body                  1010016   \n",
       "108775051   Garment Upper body                  1010017   \n",
       "\n",
       "           graphical_appearance_name  colour_group_code colour_group_name  \\\n",
       "article_id                                                                  \n",
       "108775015                      Solid                  9             Black   \n",
       "108775044                      Solid                 10             White   \n",
       "108775051                     Stripe                 11         Off White   \n",
       "\n",
       "            perceived_colour_value_id perceived_colour_value_name  \\\n",
       "article_id                                                          \n",
       "108775015                           4                        Dark   \n",
       "108775044                           3                       Light   \n",
       "108775051                           1                 Dusty Light   \n",
       "\n",
       "            perceived_colour_master_id perceived_colour_master_name  \\\n",
       "article_id                                                            \n",
       "108775015                            5                        Black   \n",
       "108775044                            9                        White   \n",
       "108775051                            9                        White   \n",
       "\n",
       "            department_no department_name index_code  index_name  \\\n",
       "article_id                                                         \n",
       "108775015            1676    Jersey Basic          A  Ladieswear   \n",
       "108775044            1676    Jersey Basic          A  Ladieswear   \n",
       "108775051            1676    Jersey Basic          A  Ladieswear   \n",
       "\n",
       "            index_group_no index_group_name  section_no  \\\n",
       "article_id                                                \n",
       "108775015                1       Ladieswear          16   \n",
       "108775044                1       Ladieswear          16   \n",
       "108775051                1       Ladieswear          16   \n",
       "\n",
       "                      section_name  garment_group_no garment_group_name  \\\n",
       "article_id                                                                \n",
       "108775015   Womens Everyday Basics              1002       Jersey Basic   \n",
       "108775044   Womens Everyday Basics              1002       Jersey Basic   \n",
       "108775051   Womens Everyday Basics              1002       Jersey Basic   \n",
       "\n",
       "                                        detail_desc  \n",
       "article_id                                           \n",
       "108775015   Jersey top with narrow shoulder straps.  \n",
       "108775044   Jersey top with narrow shoulder straps.  \n",
       "108775051   Jersey top with narrow shoulder straps.  "
      ]
     },
     "execution_count": 55,
     "metadata": {},
     "output_type": "execute_result"
    }
   ],
   "source": [
    "# Load in the meta data for use in returning the details about the recommended articles \n",
    "meta_articles = pd.read_csv('Data/articles.csv.zip', index_col='article_id')\n",
    "meta_articles.head(3)"
   ]
  },
  {
   "cell_type": "code",
   "execution_count": 56,
   "metadata": {
    "ExecuteTime": {
     "end_time": "2022-06-02T15:57:57.751329Z",
     "start_time": "2022-06-02T15:57:57.674690Z"
    }
   },
   "outputs": [
    {
     "name": "stdout",
     "output_type": "stream",
     "text": [
      "<class 'pandas.core.frame.DataFrame'>\n",
      "Index: 105542 entries, 108775015 to 959461001\n",
      "Data columns (total 24 columns):\n",
      " #   Column                        Non-Null Count   Dtype \n",
      "---  ------                        --------------   ----- \n",
      " 0   product_code                  105542 non-null  int64 \n",
      " 1   prod_name                     105542 non-null  object\n",
      " 2   product_type_no               105542 non-null  int64 \n",
      " 3   product_type_name             105542 non-null  object\n",
      " 4   product_group_name            105542 non-null  object\n",
      " 5   graphical_appearance_no       105542 non-null  int64 \n",
      " 6   graphical_appearance_name     105542 non-null  object\n",
      " 7   colour_group_code             105542 non-null  int64 \n",
      " 8   colour_group_name             105542 non-null  object\n",
      " 9   perceived_colour_value_id     105542 non-null  int64 \n",
      " 10  perceived_colour_value_name   105542 non-null  object\n",
      " 11  perceived_colour_master_id    105542 non-null  int64 \n",
      " 12  perceived_colour_master_name  105542 non-null  object\n",
      " 13  department_no                 105542 non-null  int64 \n",
      " 14  department_name               105542 non-null  object\n",
      " 15  index_code                    105542 non-null  object\n",
      " 16  index_name                    105542 non-null  object\n",
      " 17  index_group_no                105542 non-null  int64 \n",
      " 18  index_group_name              105542 non-null  object\n",
      " 19  section_no                    105542 non-null  int64 \n",
      " 20  section_name                  105542 non-null  object\n",
      " 21  garment_group_no              105542 non-null  int64 \n",
      " 22  garment_group_name            105542 non-null  object\n",
      " 23  detail_desc                   105126 non-null  object\n",
      "dtypes: int64(10), object(14)\n",
      "memory usage: 20.1+ MB\n"
     ]
    }
   ],
   "source": [
    "# sanity check\n",
    "meta_articles.info()"
   ]
  },
  {
   "cell_type": "code",
   "execution_count": 57,
   "metadata": {
    "ExecuteTime": {
     "end_time": "2022-06-02T15:57:58.454616Z",
     "start_time": "2022-06-02T15:57:58.442680Z"
    }
   },
   "outputs": [
    {
     "data": {
      "text/html": [
       "<div>\n",
       "<style scoped>\n",
       "    .dataframe tbody tr th:only-of-type {\n",
       "        vertical-align: middle;\n",
       "    }\n",
       "\n",
       "    .dataframe tbody tr th {\n",
       "        vertical-align: top;\n",
       "    }\n",
       "\n",
       "    .dataframe thead th {\n",
       "        text-align: right;\n",
       "    }\n",
       "</style>\n",
       "<table border=\"1\" class=\"dataframe\">\n",
       "  <thead>\n",
       "    <tr style=\"text-align: right;\">\n",
       "      <th></th>\n",
       "      <th>InvoiceDate</th>\n",
       "      <th>customer_id</th>\n",
       "      <th>article_id</th>\n",
       "      <th>price</th>\n",
       "      <th>sales_channel_id</th>\n",
       "      <th>t_dat</th>\n",
       "      <th>date</th>\n",
       "      <th>bought</th>\n",
       "    </tr>\n",
       "  </thead>\n",
       "  <tbody>\n",
       "    <tr>\n",
       "      <th>0</th>\n",
       "      <td>2020-09-14</td>\n",
       "      <td>0008968c0d451dbc5a9968da03196fe20051965edde741...</td>\n",
       "      <td>893059004</td>\n",
       "      <td>0.035576</td>\n",
       "      <td>2</td>\n",
       "      <td>2020-09-14</td>\n",
       "      <td>2020-09-14</td>\n",
       "      <td>1</td>\n",
       "    </tr>\n",
       "    <tr>\n",
       "      <th>1</th>\n",
       "      <td>2020-09-03</td>\n",
       "      <td>002611889659ab1051fc3e4e870f2b603c3aaa902ffe6a...</td>\n",
       "      <td>902802002</td>\n",
       "      <td>0.033881</td>\n",
       "      <td>2</td>\n",
       "      <td>2020-09-03</td>\n",
       "      <td>2020-09-03</td>\n",
       "      <td>1</td>\n",
       "    </tr>\n",
       "    <tr>\n",
       "      <th>2</th>\n",
       "      <td>2020-09-03</td>\n",
       "      <td>002611889659ab1051fc3e4e870f2b603c3aaa902ffe6a...</td>\n",
       "      <td>805000007</td>\n",
       "      <td>0.050831</td>\n",
       "      <td>2</td>\n",
       "      <td>2020-09-03</td>\n",
       "      <td>2020-09-03</td>\n",
       "      <td>1</td>\n",
       "    </tr>\n",
       "    <tr>\n",
       "      <th>3</th>\n",
       "      <td>2020-09-03</td>\n",
       "      <td>002611889659ab1051fc3e4e870f2b603c3aaa902ffe6a...</td>\n",
       "      <td>918292001</td>\n",
       "      <td>0.042356</td>\n",
       "      <td>2</td>\n",
       "      <td>2020-09-03</td>\n",
       "      <td>2020-09-03</td>\n",
       "      <td>1</td>\n",
       "    </tr>\n",
       "    <tr>\n",
       "      <th>4</th>\n",
       "      <td>2020-09-03</td>\n",
       "      <td>002611889659ab1051fc3e4e870f2b603c3aaa902ffe6a...</td>\n",
       "      <td>805000001</td>\n",
       "      <td>0.050831</td>\n",
       "      <td>2</td>\n",
       "      <td>2020-09-03</td>\n",
       "      <td>2020-09-03</td>\n",
       "      <td>1</td>\n",
       "    </tr>\n",
       "  </tbody>\n",
       "</table>\n",
       "</div>"
      ],
      "text/plain": [
       "  InvoiceDate                                        customer_id  article_id  \\\n",
       "0  2020-09-14  0008968c0d451dbc5a9968da03196fe20051965edde741...   893059004   \n",
       "1  2020-09-03  002611889659ab1051fc3e4e870f2b603c3aaa902ffe6a...   902802002   \n",
       "2  2020-09-03  002611889659ab1051fc3e4e870f2b603c3aaa902ffe6a...   805000007   \n",
       "3  2020-09-03  002611889659ab1051fc3e4e870f2b603c3aaa902ffe6a...   918292001   \n",
       "4  2020-09-03  002611889659ab1051fc3e4e870f2b603c3aaa902ffe6a...   805000001   \n",
       "\n",
       "      price  sales_channel_id       t_dat        date  bought  \n",
       "0  0.035576                 2  2020-09-14  2020-09-14       1  \n",
       "1  0.033881                 2  2020-09-03  2020-09-03       1  \n",
       "2  0.050831                 2  2020-09-03  2020-09-03       1  \n",
       "3  0.042356                 2  2020-09-03  2020-09-03       1  \n",
       "4  0.050831                 2  2020-09-03  2020-09-03       1  "
      ]
     },
     "execution_count": 57,
     "metadata": {},
     "output_type": "execute_result"
    }
   ],
   "source": [
    "transactions.head()"
   ]
  },
  {
   "cell_type": "code",
   "execution_count": 58,
   "metadata": {
    "ExecuteTime": {
     "end_time": "2022-06-02T15:57:59.256484Z",
     "start_time": "2022-06-02T15:57:59.155556Z"
    }
   },
   "outputs": [
    {
     "data": {
      "text/html": [
       "<div>\n",
       "<style scoped>\n",
       "    .dataframe tbody tr th:only-of-type {\n",
       "        vertical-align: middle;\n",
       "    }\n",
       "\n",
       "    .dataframe tbody tr th {\n",
       "        vertical-align: top;\n",
       "    }\n",
       "\n",
       "    .dataframe thead th {\n",
       "        text-align: right;\n",
       "    }\n",
       "</style>\n",
       "<table border=\"1\" class=\"dataframe\">\n",
       "  <thead>\n",
       "    <tr style=\"text-align: right;\">\n",
       "      <th></th>\n",
       "      <th>article_id</th>\n",
       "    </tr>\n",
       "    <tr>\n",
       "      <th>customer_id</th>\n",
       "      <th></th>\n",
       "    </tr>\n",
       "  </thead>\n",
       "  <tbody>\n",
       "    <tr>\n",
       "      <th>0008968c0d451dbc5a9968da03196fe20051965edde7413775c4eb3be9abe9c2</th>\n",
       "      <td>893059004</td>\n",
       "    </tr>\n",
       "    <tr>\n",
       "      <th>002611889659ab1051fc3e4e870f2b603c3aaa902ffe6ab59e83461c76c879dc</th>\n",
       "      <td>902802002</td>\n",
       "    </tr>\n",
       "    <tr>\n",
       "      <th>002611889659ab1051fc3e4e870f2b603c3aaa902ffe6ab59e83461c76c879dc</th>\n",
       "      <td>805000007</td>\n",
       "    </tr>\n",
       "    <tr>\n",
       "      <th>002611889659ab1051fc3e4e870f2b603c3aaa902ffe6ab59e83461c76c879dc</th>\n",
       "      <td>918292001</td>\n",
       "    </tr>\n",
       "    <tr>\n",
       "      <th>002611889659ab1051fc3e4e870f2b603c3aaa902ffe6ab59e83461c76c879dc</th>\n",
       "      <td>805000001</td>\n",
       "    </tr>\n",
       "  </tbody>\n",
       "</table>\n",
       "</div>"
      ],
      "text/plain": [
       "                                                    article_id\n",
       "customer_id                                                   \n",
       "0008968c0d451dbc5a9968da03196fe20051965edde7413...   893059004\n",
       "002611889659ab1051fc3e4e870f2b603c3aaa902ffe6ab...   902802002\n",
       "002611889659ab1051fc3e4e870f2b603c3aaa902ffe6ab...   805000007\n",
       "002611889659ab1051fc3e4e870f2b603c3aaa902ffe6ab...   918292001\n",
       "002611889659ab1051fc3e4e870f2b603c3aaa902ffe6ab...   805000001"
      ]
     },
     "execution_count": 58,
     "metadata": {},
     "output_type": "execute_result"
    }
   ],
   "source": [
    "# The transactions data is subset to just show customers and the articles they have bought\n",
    "df_customer = transactions.set_index('customer_id')\n",
    "df_customer.drop(columns=['InvoiceDate', 'price', 'sales_channel_id', 't_dat', 'date', 'bought'], inplace=True)\n",
    "df_customer.head()"
   ]
  },
  {
   "cell_type": "code",
   "execution_count": 59,
   "metadata": {
    "ExecuteTime": {
     "end_time": "2022-06-02T15:58:01.756036Z",
     "start_time": "2022-06-02T15:57:59.966392Z"
    }
   },
   "outputs": [],
   "source": [
    "# Save the `df_customer` as a new csv\n",
    "\n",
    "df_customer.to_csv('Data/df_customer.csv')"
   ]
  },
  {
   "cell_type": "code",
   "execution_count": 60,
   "metadata": {
    "ExecuteTime": {
     "end_time": "2022-06-02T15:58:03.094938Z",
     "start_time": "2022-06-02T15:58:02.479405Z"
    }
   },
   "outputs": [
    {
     "data": {
      "text/html": [
       "<div>\n",
       "<style scoped>\n",
       "    .dataframe tbody tr th:only-of-type {\n",
       "        vertical-align: middle;\n",
       "    }\n",
       "\n",
       "    .dataframe tbody tr th {\n",
       "        vertical-align: top;\n",
       "    }\n",
       "\n",
       "    .dataframe thead th {\n",
       "        text-align: right;\n",
       "    }\n",
       "</style>\n",
       "<table border=\"1\" class=\"dataframe\">\n",
       "  <thead>\n",
       "    <tr style=\"text-align: right;\">\n",
       "      <th></th>\n",
       "      <th>article_id</th>\n",
       "    </tr>\n",
       "    <tr>\n",
       "      <th>customer_id</th>\n",
       "      <th></th>\n",
       "    </tr>\n",
       "  </thead>\n",
       "  <tbody>\n",
       "    <tr>\n",
       "      <th>0008968c0d451dbc5a9968da03196fe20051965edde7413775c4eb3be9abe9c2</th>\n",
       "      <td>893059004</td>\n",
       "    </tr>\n",
       "    <tr>\n",
       "      <th>002611889659ab1051fc3e4e870f2b603c3aaa902ffe6ab59e83461c76c879dc</th>\n",
       "      <td>902802002</td>\n",
       "    </tr>\n",
       "    <tr>\n",
       "      <th>002611889659ab1051fc3e4e870f2b603c3aaa902ffe6ab59e83461c76c879dc</th>\n",
       "      <td>805000007</td>\n",
       "    </tr>\n",
       "    <tr>\n",
       "      <th>002611889659ab1051fc3e4e870f2b603c3aaa902ffe6ab59e83461c76c879dc</th>\n",
       "      <td>918292001</td>\n",
       "    </tr>\n",
       "    <tr>\n",
       "      <th>002611889659ab1051fc3e4e870f2b603c3aaa902ffe6ab59e83461c76c879dc</th>\n",
       "      <td>805000001</td>\n",
       "    </tr>\n",
       "    <tr>\n",
       "      <th>...</th>\n",
       "      <td>...</td>\n",
       "    </tr>\n",
       "    <tr>\n",
       "      <th>ffb72741f3bc3d98855703b55d34e05bc7893a5d6a99a3758cc7fa0cf65ba441</th>\n",
       "      <td>914404001</td>\n",
       "    </tr>\n",
       "    <tr>\n",
       "      <th>ffb72741f3bc3d98855703b55d34e05bc7893a5d6a99a3758cc7fa0cf65ba441</th>\n",
       "      <td>751471041</td>\n",
       "    </tr>\n",
       "    <tr>\n",
       "      <th>ffb72741f3bc3d98855703b55d34e05bc7893a5d6a99a3758cc7fa0cf65ba441</th>\n",
       "      <td>751471038</td>\n",
       "    </tr>\n",
       "    <tr>\n",
       "      <th>ffc92c3f7b0b302f393c2968b290f6e5c5b5510d1cf1dfd2f8586a5ce3ce8bf4</th>\n",
       "      <td>895730002</td>\n",
       "    </tr>\n",
       "    <tr>\n",
       "      <th>ffc92c3f7b0b302f393c2968b290f6e5c5b5510d1cf1dfd2f8586a5ce3ce8bf4</th>\n",
       "      <td>740519002</td>\n",
       "    </tr>\n",
       "  </tbody>\n",
       "</table>\n",
       "<p>671674 rows × 1 columns</p>\n",
       "</div>"
      ],
      "text/plain": [
       "                                                    article_id\n",
       "customer_id                                                   \n",
       "0008968c0d451dbc5a9968da03196fe20051965edde7413...   893059004\n",
       "002611889659ab1051fc3e4e870f2b603c3aaa902ffe6ab...   902802002\n",
       "002611889659ab1051fc3e4e870f2b603c3aaa902ffe6ab...   805000007\n",
       "002611889659ab1051fc3e4e870f2b603c3aaa902ffe6ab...   918292001\n",
       "002611889659ab1051fc3e4e870f2b603c3aaa902ffe6ab...   805000001\n",
       "...                                                        ...\n",
       "ffb72741f3bc3d98855703b55d34e05bc7893a5d6a99a37...   914404001\n",
       "ffb72741f3bc3d98855703b55d34e05bc7893a5d6a99a37...   751471041\n",
       "ffb72741f3bc3d98855703b55d34e05bc7893a5d6a99a37...   751471038\n",
       "ffc92c3f7b0b302f393c2968b290f6e5c5b5510d1cf1dfd...   895730002\n",
       "ffc92c3f7b0b302f393c2968b290f6e5c5b5510d1cf1dfd...   740519002\n",
       "\n",
       "[671674 rows x 1 columns]"
      ]
     },
     "execution_count": 60,
     "metadata": {},
     "output_type": "execute_result"
    }
   ],
   "source": [
    "pd.read_csv('Data/df_customer.csv', index_col='customer_id')"
   ]
  },
  {
   "cell_type": "code",
   "execution_count": null,
   "metadata": {
    "ExecuteTime": {
     "end_time": "2022-06-02T15:58:08.622140Z",
     "start_time": "2022-06-02T15:58:03.817511Z"
    }
   },
   "outputs": [],
   "source": [
    "# Dual input for unique customer ID and how many recommendations you would like\n",
    "customer = input('CustomerID: ')\n",
    "n_recs = int(input('How many recommendations? '))"
   ]
  },
  {
   "cell_type": "code",
   "execution_count": 62,
   "metadata": {
    "ExecuteTime": {
     "end_time": "2022-06-02T15:58:09.423757Z",
     "start_time": "2022-06-02T15:58:09.353979Z"
    }
   },
   "outputs": [
    {
     "data": {
      "text/plain": [
       "[902802002, 805000007, 918292001, 805000001, 730683050, 910824001]"
      ]
     },
     "execution_count": 62,
     "metadata": {},
     "output_type": "execute_result"
    }
   ],
   "source": [
    "# Creating a list of the eBooks that said reviewer has already rated\n",
    "have_bought = list(df_customer.loc[customer, 'article_id'])\n",
    "have_bought"
   ]
  },
  {
   "cell_type": "code",
   "execution_count": 63,
   "metadata": {
    "ExecuteTime": {
     "end_time": "2022-06-02T15:58:10.257563Z",
     "start_time": "2022-06-02T15:58:10.162574Z"
    }
   },
   "outputs": [
    {
     "data": {
      "text/html": [
       "<div>\n",
       "<style scoped>\n",
       "    .dataframe tbody tr th:only-of-type {\n",
       "        vertical-align: middle;\n",
       "    }\n",
       "\n",
       "    .dataframe tbody tr th {\n",
       "        vertical-align: top;\n",
       "    }\n",
       "\n",
       "    .dataframe thead th {\n",
       "        text-align: right;\n",
       "    }\n",
       "</style>\n",
       "<table border=\"1\" class=\"dataframe\">\n",
       "  <thead>\n",
       "    <tr style=\"text-align: right;\">\n",
       "      <th></th>\n",
       "      <th>article_id</th>\n",
       "      <th>product_code</th>\n",
       "      <th>prod_name</th>\n",
       "      <th>product_type_no</th>\n",
       "      <th>product_type_name</th>\n",
       "      <th>product_group_name</th>\n",
       "      <th>graphical_appearance_no</th>\n",
       "      <th>graphical_appearance_name</th>\n",
       "      <th>colour_group_code</th>\n",
       "      <th>colour_group_name</th>\n",
       "      <th>perceived_colour_value_id</th>\n",
       "      <th>perceived_colour_value_name</th>\n",
       "      <th>perceived_colour_master_id</th>\n",
       "      <th>perceived_colour_master_name</th>\n",
       "      <th>department_no</th>\n",
       "      <th>department_name</th>\n",
       "      <th>index_code</th>\n",
       "      <th>index_name</th>\n",
       "      <th>index_group_no</th>\n",
       "      <th>index_group_name</th>\n",
       "      <th>section_no</th>\n",
       "      <th>section_name</th>\n",
       "      <th>garment_group_no</th>\n",
       "      <th>garment_group_name</th>\n",
       "      <th>detail_desc</th>\n",
       "    </tr>\n",
       "  </thead>\n",
       "  <tbody>\n",
       "    <tr>\n",
       "      <th>0</th>\n",
       "      <td>108775015</td>\n",
       "      <td>108775</td>\n",
       "      <td>Strap top</td>\n",
       "      <td>253</td>\n",
       "      <td>Vest top</td>\n",
       "      <td>Garment Upper body</td>\n",
       "      <td>1010016</td>\n",
       "      <td>Solid</td>\n",
       "      <td>9</td>\n",
       "      <td>Black</td>\n",
       "      <td>4</td>\n",
       "      <td>Dark</td>\n",
       "      <td>5</td>\n",
       "      <td>Black</td>\n",
       "      <td>1676</td>\n",
       "      <td>Jersey Basic</td>\n",
       "      <td>A</td>\n",
       "      <td>Ladieswear</td>\n",
       "      <td>1</td>\n",
       "      <td>Ladieswear</td>\n",
       "      <td>16</td>\n",
       "      <td>Womens Everyday Basics</td>\n",
       "      <td>1002</td>\n",
       "      <td>Jersey Basic</td>\n",
       "      <td>Jersey top with narrow shoulder straps.</td>\n",
       "    </tr>\n",
       "    <tr>\n",
       "      <th>1</th>\n",
       "      <td>108775044</td>\n",
       "      <td>108775</td>\n",
       "      <td>Strap top</td>\n",
       "      <td>253</td>\n",
       "      <td>Vest top</td>\n",
       "      <td>Garment Upper body</td>\n",
       "      <td>1010016</td>\n",
       "      <td>Solid</td>\n",
       "      <td>10</td>\n",
       "      <td>White</td>\n",
       "      <td>3</td>\n",
       "      <td>Light</td>\n",
       "      <td>9</td>\n",
       "      <td>White</td>\n",
       "      <td>1676</td>\n",
       "      <td>Jersey Basic</td>\n",
       "      <td>A</td>\n",
       "      <td>Ladieswear</td>\n",
       "      <td>1</td>\n",
       "      <td>Ladieswear</td>\n",
       "      <td>16</td>\n",
       "      <td>Womens Everyday Basics</td>\n",
       "      <td>1002</td>\n",
       "      <td>Jersey Basic</td>\n",
       "      <td>Jersey top with narrow shoulder straps.</td>\n",
       "    </tr>\n",
       "    <tr>\n",
       "      <th>2</th>\n",
       "      <td>108775051</td>\n",
       "      <td>108775</td>\n",
       "      <td>Strap top (1)</td>\n",
       "      <td>253</td>\n",
       "      <td>Vest top</td>\n",
       "      <td>Garment Upper body</td>\n",
       "      <td>1010017</td>\n",
       "      <td>Stripe</td>\n",
       "      <td>11</td>\n",
       "      <td>Off White</td>\n",
       "      <td>1</td>\n",
       "      <td>Dusty Light</td>\n",
       "      <td>9</td>\n",
       "      <td>White</td>\n",
       "      <td>1676</td>\n",
       "      <td>Jersey Basic</td>\n",
       "      <td>A</td>\n",
       "      <td>Ladieswear</td>\n",
       "      <td>1</td>\n",
       "      <td>Ladieswear</td>\n",
       "      <td>16</td>\n",
       "      <td>Womens Everyday Basics</td>\n",
       "      <td>1002</td>\n",
       "      <td>Jersey Basic</td>\n",
       "      <td>Jersey top with narrow shoulder straps.</td>\n",
       "    </tr>\n",
       "  </tbody>\n",
       "</table>\n",
       "</div>"
      ],
      "text/plain": [
       "   article_id  product_code      prod_name  product_type_no product_type_name  \\\n",
       "0   108775015        108775      Strap top              253          Vest top   \n",
       "1   108775044        108775      Strap top              253          Vest top   \n",
       "2   108775051        108775  Strap top (1)              253          Vest top   \n",
       "\n",
       "   product_group_name  graphical_appearance_no graphical_appearance_name  \\\n",
       "0  Garment Upper body                  1010016                     Solid   \n",
       "1  Garment Upper body                  1010016                     Solid   \n",
       "2  Garment Upper body                  1010017                    Stripe   \n",
       "\n",
       "   colour_group_code colour_group_name  perceived_colour_value_id  \\\n",
       "0                  9             Black                          4   \n",
       "1                 10             White                          3   \n",
       "2                 11         Off White                          1   \n",
       "\n",
       "  perceived_colour_value_name  perceived_colour_master_id  \\\n",
       "0                        Dark                           5   \n",
       "1                       Light                           9   \n",
       "2                 Dusty Light                           9   \n",
       "\n",
       "  perceived_colour_master_name  department_no department_name index_code  \\\n",
       "0                        Black           1676    Jersey Basic          A   \n",
       "1                        White           1676    Jersey Basic          A   \n",
       "2                        White           1676    Jersey Basic          A   \n",
       "\n",
       "   index_name  index_group_no index_group_name  section_no  \\\n",
       "0  Ladieswear               1       Ladieswear          16   \n",
       "1  Ladieswear               1       Ladieswear          16   \n",
       "2  Ladieswear               1       Ladieswear          16   \n",
       "\n",
       "             section_name  garment_group_no garment_group_name  \\\n",
       "0  Womens Everyday Basics              1002       Jersey Basic   \n",
       "1  Womens Everyday Basics              1002       Jersey Basic   \n",
       "2  Womens Everyday Basics              1002       Jersey Basic   \n",
       "\n",
       "                               detail_desc  \n",
       "0  Jersey top with narrow shoulder straps.  \n",
       "1  Jersey top with narrow shoulder straps.  \n",
       "2  Jersey top with narrow shoulder straps.  "
      ]
     },
     "execution_count": 63,
     "metadata": {},
     "output_type": "execute_result"
    }
   ],
   "source": [
    "# Creating new dataframe from meta data to subset based on already bought articles\n",
    "not_bought = meta_articles.copy()\n",
    "# Dropping indexes (article_id) that correspond to already bought articles\n",
    "not_bought.drop(have_bought, inplace=True)\n",
    "# Reset index to pull out article_id as a seperate column\n",
    "not_bought.reset_index(inplace=True)\n",
    "not_bought.head(3)"
   ]
  },
  {
   "cell_type": "code",
   "execution_count": 64,
   "metadata": {
    "ExecuteTime": {
     "end_time": "2022-06-02T15:58:11.796087Z",
     "start_time": "2022-06-02T15:58:11.077930Z"
    }
   },
   "outputs": [
    {
     "data": {
      "text/html": [
       "<div>\n",
       "<style scoped>\n",
       "    .dataframe tbody tr th:only-of-type {\n",
       "        vertical-align: middle;\n",
       "    }\n",
       "\n",
       "    .dataframe tbody tr th {\n",
       "        vertical-align: top;\n",
       "    }\n",
       "\n",
       "    .dataframe thead th {\n",
       "        text-align: right;\n",
       "    }\n",
       "</style>\n",
       "<table border=\"1\" class=\"dataframe\">\n",
       "  <thead>\n",
       "    <tr style=\"text-align: right;\">\n",
       "      <th></th>\n",
       "      <th>article_id</th>\n",
       "      <th>product_code</th>\n",
       "      <th>prod_name</th>\n",
       "      <th>product_type_no</th>\n",
       "      <th>product_type_name</th>\n",
       "      <th>product_group_name</th>\n",
       "      <th>graphical_appearance_no</th>\n",
       "      <th>graphical_appearance_name</th>\n",
       "      <th>colour_group_code</th>\n",
       "      <th>colour_group_name</th>\n",
       "      <th>perceived_colour_value_id</th>\n",
       "      <th>perceived_colour_value_name</th>\n",
       "      <th>perceived_colour_master_id</th>\n",
       "      <th>perceived_colour_master_name</th>\n",
       "      <th>department_no</th>\n",
       "      <th>department_name</th>\n",
       "      <th>index_code</th>\n",
       "      <th>index_name</th>\n",
       "      <th>index_group_no</th>\n",
       "      <th>index_group_name</th>\n",
       "      <th>section_no</th>\n",
       "      <th>section_name</th>\n",
       "      <th>garment_group_no</th>\n",
       "      <th>garment_group_name</th>\n",
       "      <th>detail_desc</th>\n",
       "      <th>est_purchase</th>\n",
       "    </tr>\n",
       "  </thead>\n",
       "  <tbody>\n",
       "    <tr>\n",
       "      <th>79778</th>\n",
       "      <td>798972013</td>\n",
       "      <td>798972</td>\n",
       "      <td>Bruce skinny 5 pkt fancy</td>\n",
       "      <td>272</td>\n",
       "      <td>Trousers</td>\n",
       "      <td>Garment Lower body</td>\n",
       "      <td>1010004</td>\n",
       "      <td>Check</td>\n",
       "      <td>17</td>\n",
       "      <td>Yellowish Brown</td>\n",
       "      <td>4</td>\n",
       "      <td>Dark</td>\n",
       "      <td>13</td>\n",
       "      <td>Brown</td>\n",
       "      <td>5686</td>\n",
       "      <td>Trouser</td>\n",
       "      <td>F</td>\n",
       "      <td>Menswear</td>\n",
       "      <td>3</td>\n",
       "      <td>Menswear</td>\n",
       "      <td>20</td>\n",
       "      <td>Contemporary Smart</td>\n",
       "      <td>1009</td>\n",
       "      <td>Trousers</td>\n",
       "      <td>5-pocket trousers in stretch cotton twill with...</td>\n",
       "      <td>1.0</td>\n",
       "    </tr>\n",
       "    <tr>\n",
       "      <th>37189</th>\n",
       "      <td>652924010</td>\n",
       "      <td>652924</td>\n",
       "      <td>&amp;DENIM Jeggings HW</td>\n",
       "      <td>272</td>\n",
       "      <td>Trousers</td>\n",
       "      <td>Garment Lower body</td>\n",
       "      <td>1010023</td>\n",
       "      <td>Denim</td>\n",
       "      <td>72</td>\n",
       "      <td>Blue</td>\n",
       "      <td>2</td>\n",
       "      <td>Medium Dusty</td>\n",
       "      <td>2</td>\n",
       "      <td>Blue</td>\n",
       "      <td>1774</td>\n",
       "      <td>OL Extended Sizes</td>\n",
       "      <td>A</td>\n",
       "      <td>Ladieswear</td>\n",
       "      <td>1</td>\n",
       "      <td>Ladieswear</td>\n",
       "      <td>57</td>\n",
       "      <td>Ladies Denim</td>\n",
       "      <td>1016</td>\n",
       "      <td>Trousers Denim</td>\n",
       "      <td>High-waisted jeggings in stretch denim with a ...</td>\n",
       "      <td>1.0</td>\n",
       "    </tr>\n",
       "    <tr>\n",
       "      <th>101482</th>\n",
       "      <td>897077003</td>\n",
       "      <td>897077</td>\n",
       "      <td>Sybil Dress</td>\n",
       "      <td>265</td>\n",
       "      <td>Dress</td>\n",
       "      <td>Garment Full body</td>\n",
       "      <td>1010016</td>\n",
       "      <td>Solid</td>\n",
       "      <td>9</td>\n",
       "      <td>Black</td>\n",
       "      <td>4</td>\n",
       "      <td>Dark</td>\n",
       "      <td>5</td>\n",
       "      <td>Black</td>\n",
       "      <td>1343</td>\n",
       "      <td>Projects Dresses</td>\n",
       "      <td>D</td>\n",
       "      <td>Divided</td>\n",
       "      <td>2</td>\n",
       "      <td>Divided</td>\n",
       "      <td>50</td>\n",
       "      <td>Divided Projects</td>\n",
       "      <td>1013</td>\n",
       "      <td>Dresses Ladies</td>\n",
       "      <td>Short dress in a viscose weave with a rounded ...</td>\n",
       "      <td>1.0</td>\n",
       "    </tr>\n",
       "    <tr>\n",
       "      <th>91531</th>\n",
       "      <td>849886012</td>\n",
       "      <td>849886</td>\n",
       "      <td>Acai seamless bra CONSCIOUS</td>\n",
       "      <td>306</td>\n",
       "      <td>Bra</td>\n",
       "      <td>Underwear</td>\n",
       "      <td>1010016</td>\n",
       "      <td>Solid</td>\n",
       "      <td>92</td>\n",
       "      <td>Green</td>\n",
       "      <td>2</td>\n",
       "      <td>Medium Dusty</td>\n",
       "      <td>12</td>\n",
       "      <td>Grey</td>\n",
       "      <td>8316</td>\n",
       "      <td>Ladies Sport Bras</td>\n",
       "      <td>S</td>\n",
       "      <td>Sport</td>\n",
       "      <td>26</td>\n",
       "      <td>Sport</td>\n",
       "      <td>5</td>\n",
       "      <td>Ladies H&amp;M Sport</td>\n",
       "      <td>1005</td>\n",
       "      <td>Jersey Fancy</td>\n",
       "      <td>Sports bra in ribbed, fast-drying functional f...</td>\n",
       "      <td>1.0</td>\n",
       "    </tr>\n",
       "    <tr>\n",
       "      <th>98834</th>\n",
       "      <td>881112001</td>\n",
       "      <td>881112</td>\n",
       "      <td>Shaping Skinny RW</td>\n",
       "      <td>272</td>\n",
       "      <td>Trousers</td>\n",
       "      <td>Garment Lower body</td>\n",
       "      <td>1010023</td>\n",
       "      <td>Denim</td>\n",
       "      <td>9</td>\n",
       "      <td>Black</td>\n",
       "      <td>4</td>\n",
       "      <td>Dark</td>\n",
       "      <td>5</td>\n",
       "      <td>Black</td>\n",
       "      <td>1772</td>\n",
       "      <td>Denim Trousers</td>\n",
       "      <td>D</td>\n",
       "      <td>Divided</td>\n",
       "      <td>2</td>\n",
       "      <td>Divided</td>\n",
       "      <td>57</td>\n",
       "      <td>Ladies Denim</td>\n",
       "      <td>1016</td>\n",
       "      <td>Trousers Denim</td>\n",
       "      <td>5-pocket jeans in washed, stretch denim with a...</td>\n",
       "      <td>1.0</td>\n",
       "    </tr>\n",
       "  </tbody>\n",
       "</table>\n",
       "</div>"
      ],
      "text/plain": [
       "        article_id  product_code                    prod_name  \\\n",
       "79778    798972013        798972     Bruce skinny 5 pkt fancy   \n",
       "37189    652924010        652924           &DENIM Jeggings HW   \n",
       "101482   897077003        897077                  Sybil Dress   \n",
       "91531    849886012        849886  Acai seamless bra CONSCIOUS   \n",
       "98834    881112001        881112            Shaping Skinny RW   \n",
       "\n",
       "        product_type_no product_type_name  product_group_name  \\\n",
       "79778               272          Trousers  Garment Lower body   \n",
       "37189               272          Trousers  Garment Lower body   \n",
       "101482              265             Dress   Garment Full body   \n",
       "91531               306               Bra           Underwear   \n",
       "98834               272          Trousers  Garment Lower body   \n",
       "\n",
       "        graphical_appearance_no graphical_appearance_name  colour_group_code  \\\n",
       "79778                   1010004                     Check                 17   \n",
       "37189                   1010023                     Denim                 72   \n",
       "101482                  1010016                     Solid                  9   \n",
       "91531                   1010016                     Solid                 92   \n",
       "98834                   1010023                     Denim                  9   \n",
       "\n",
       "       colour_group_name  perceived_colour_value_id  \\\n",
       "79778    Yellowish Brown                          4   \n",
       "37189               Blue                          2   \n",
       "101482             Black                          4   \n",
       "91531              Green                          2   \n",
       "98834              Black                          4   \n",
       "\n",
       "       perceived_colour_value_name  perceived_colour_master_id  \\\n",
       "79778                         Dark                          13   \n",
       "37189                 Medium Dusty                           2   \n",
       "101482                        Dark                           5   \n",
       "91531                 Medium Dusty                          12   \n",
       "98834                         Dark                           5   \n",
       "\n",
       "       perceived_colour_master_name  department_no    department_name  \\\n",
       "79778                         Brown           5686            Trouser   \n",
       "37189                          Blue           1774  OL Extended Sizes   \n",
       "101482                        Black           1343   Projects Dresses   \n",
       "91531                          Grey           8316  Ladies Sport Bras   \n",
       "98834                         Black           1772     Denim Trousers   \n",
       "\n",
       "       index_code  index_name  index_group_no index_group_name  section_no  \\\n",
       "79778           F    Menswear               3         Menswear          20   \n",
       "37189           A  Ladieswear               1       Ladieswear          57   \n",
       "101482          D     Divided               2          Divided          50   \n",
       "91531           S       Sport              26            Sport           5   \n",
       "98834           D     Divided               2          Divided          57   \n",
       "\n",
       "              section_name  garment_group_no garment_group_name  \\\n",
       "79778   Contemporary Smart              1009           Trousers   \n",
       "37189         Ladies Denim              1016     Trousers Denim   \n",
       "101482    Divided Projects              1013     Dresses Ladies   \n",
       "91531     Ladies H&M Sport              1005       Jersey Fancy   \n",
       "98834         Ladies Denim              1016     Trousers Denim   \n",
       "\n",
       "                                              detail_desc  est_purchase  \n",
       "79778   5-pocket trousers in stretch cotton twill with...           1.0  \n",
       "37189   High-waisted jeggings in stretch denim with a ...           1.0  \n",
       "101482  Short dress in a viscose weave with a rounded ...           1.0  \n",
       "91531   Sports bra in ribbed, fast-drying functional f...           1.0  \n",
       "98834   5-pocket jeans in washed, stretch denim with a...           1.0  "
      ]
     },
     "execution_count": 64,
     "metadata": {},
     "output_type": "execute_result"
    }
   ],
   "source": [
    "# Obtain rating predictions based on model.predict, passing in user input. \n",
    "# Using .apply with lamdba function to iterate through\n",
    "not_bought['est_purchase'] = not_bought['article_id'].apply(lambda x: final_model.predict(customer, x).est)\n",
    "# Sort dataframe based on newly created est_purchase problem in order to return top estimated ratings (purcahse in this case)\n",
    "not_bought.sort_values(by='est_purchase', ascending=False, inplace=True)\n",
    "not_bought.head()"
   ]
  },
  {
   "cell_type": "code",
   "execution_count": 65,
   "metadata": {
    "ExecuteTime": {
     "end_time": "2022-06-02T15:58:12.610497Z",
     "start_time": "2022-06-02T15:58:12.605785Z"
    }
   },
   "outputs": [
    {
     "data": {
      "text/plain": [
       "82316     0.943223\n",
       "105106    0.942806\n",
       "102535    0.940564\n",
       "62470     0.939328\n",
       "5863      0.930083\n",
       "Name: est_purchase, dtype: float64"
      ]
     },
     "execution_count": 65,
     "metadata": {},
     "output_type": "execute_result"
    }
   ],
   "source": [
    "not_bought['est_purchase'].tail()"
   ]
  },
  {
   "cell_type": "code",
   "execution_count": 66,
   "metadata": {
    "ExecuteTime": {
     "end_time": "2022-06-02T15:58:13.408551Z",
     "start_time": "2022-06-02T15:58:13.405127Z"
    }
   },
   "outputs": [],
   "source": [
    "# Captilizing column names for a more appealing final display\n",
    "not_bought.rename(columns={'prod_name':'Product Name', 'author':'Author',\n",
    "                               'product_type_name':'Product Type Name', 'product_group_name':'Product Group Name',\n",
    "                               'index_group_name':'Index Group Name', 'garment_group_name ':'Garment Group Name'}, inplace=True)"
   ]
  },
  {
   "cell_type": "code",
   "execution_count": 67,
   "metadata": {
    "ExecuteTime": {
     "end_time": "2022-06-02T15:58:14.227633Z",
     "start_time": "2022-06-02T15:58:14.202627Z"
    }
   },
   "outputs": [
    {
     "data": {
      "text/html": [
       "<div>\n",
       "<style scoped>\n",
       "    .dataframe tbody tr th:only-of-type {\n",
       "        vertical-align: middle;\n",
       "    }\n",
       "\n",
       "    .dataframe tbody tr th {\n",
       "        vertical-align: top;\n",
       "    }\n",
       "\n",
       "    .dataframe thead th {\n",
       "        text-align: right;\n",
       "    }\n",
       "</style>\n",
       "<table border=\"1\" class=\"dataframe\">\n",
       "  <thead>\n",
       "    <tr style=\"text-align: right;\">\n",
       "      <th></th>\n",
       "      <th>article_id</th>\n",
       "      <th>product_code</th>\n",
       "      <th>Product Name</th>\n",
       "      <th>product_type_no</th>\n",
       "      <th>Product Type Name</th>\n",
       "      <th>Product Group Name</th>\n",
       "      <th>graphical_appearance_no</th>\n",
       "      <th>graphical_appearance_name</th>\n",
       "      <th>colour_group_code</th>\n",
       "      <th>colour_group_name</th>\n",
       "      <th>perceived_colour_value_id</th>\n",
       "      <th>perceived_colour_value_name</th>\n",
       "      <th>perceived_colour_master_id</th>\n",
       "      <th>perceived_colour_master_name</th>\n",
       "      <th>department_no</th>\n",
       "      <th>department_name</th>\n",
       "      <th>index_code</th>\n",
       "      <th>index_name</th>\n",
       "      <th>index_group_no</th>\n",
       "      <th>Index Group Name</th>\n",
       "      <th>section_no</th>\n",
       "      <th>section_name</th>\n",
       "      <th>garment_group_no</th>\n",
       "      <th>garment_group_name</th>\n",
       "      <th>detail_desc</th>\n",
       "      <th>est_purchase</th>\n",
       "    </tr>\n",
       "  </thead>\n",
       "  <tbody>\n",
       "    <tr>\n",
       "      <th>79778</th>\n",
       "      <td>798972013</td>\n",
       "      <td>798972</td>\n",
       "      <td>Bruce skinny 5 pkt fancy</td>\n",
       "      <td>272</td>\n",
       "      <td>Trousers</td>\n",
       "      <td>Garment Lower body</td>\n",
       "      <td>1010004</td>\n",
       "      <td>Check</td>\n",
       "      <td>17</td>\n",
       "      <td>Yellowish Brown</td>\n",
       "      <td>4</td>\n",
       "      <td>Dark</td>\n",
       "      <td>13</td>\n",
       "      <td>Brown</td>\n",
       "      <td>5686</td>\n",
       "      <td>Trouser</td>\n",
       "      <td>F</td>\n",
       "      <td>Menswear</td>\n",
       "      <td>3</td>\n",
       "      <td>Menswear</td>\n",
       "      <td>20</td>\n",
       "      <td>Contemporary Smart</td>\n",
       "      <td>1009</td>\n",
       "      <td>Trousers</td>\n",
       "      <td>5-pocket trousers in stretch cotton twill with...</td>\n",
       "      <td>1.0</td>\n",
       "    </tr>\n",
       "    <tr>\n",
       "      <th>37189</th>\n",
       "      <td>652924010</td>\n",
       "      <td>652924</td>\n",
       "      <td>&amp;DENIM Jeggings HW</td>\n",
       "      <td>272</td>\n",
       "      <td>Trousers</td>\n",
       "      <td>Garment Lower body</td>\n",
       "      <td>1010023</td>\n",
       "      <td>Denim</td>\n",
       "      <td>72</td>\n",
       "      <td>Blue</td>\n",
       "      <td>2</td>\n",
       "      <td>Medium Dusty</td>\n",
       "      <td>2</td>\n",
       "      <td>Blue</td>\n",
       "      <td>1774</td>\n",
       "      <td>OL Extended Sizes</td>\n",
       "      <td>A</td>\n",
       "      <td>Ladieswear</td>\n",
       "      <td>1</td>\n",
       "      <td>Ladieswear</td>\n",
       "      <td>57</td>\n",
       "      <td>Ladies Denim</td>\n",
       "      <td>1016</td>\n",
       "      <td>Trousers Denim</td>\n",
       "      <td>High-waisted jeggings in stretch denim with a ...</td>\n",
       "      <td>1.0</td>\n",
       "    </tr>\n",
       "    <tr>\n",
       "      <th>101482</th>\n",
       "      <td>897077003</td>\n",
       "      <td>897077</td>\n",
       "      <td>Sybil Dress</td>\n",
       "      <td>265</td>\n",
       "      <td>Dress</td>\n",
       "      <td>Garment Full body</td>\n",
       "      <td>1010016</td>\n",
       "      <td>Solid</td>\n",
       "      <td>9</td>\n",
       "      <td>Black</td>\n",
       "      <td>4</td>\n",
       "      <td>Dark</td>\n",
       "      <td>5</td>\n",
       "      <td>Black</td>\n",
       "      <td>1343</td>\n",
       "      <td>Projects Dresses</td>\n",
       "      <td>D</td>\n",
       "      <td>Divided</td>\n",
       "      <td>2</td>\n",
       "      <td>Divided</td>\n",
       "      <td>50</td>\n",
       "      <td>Divided Projects</td>\n",
       "      <td>1013</td>\n",
       "      <td>Dresses Ladies</td>\n",
       "      <td>Short dress in a viscose weave with a rounded ...</td>\n",
       "      <td>1.0</td>\n",
       "    </tr>\n",
       "    <tr>\n",
       "      <th>91531</th>\n",
       "      <td>849886012</td>\n",
       "      <td>849886</td>\n",
       "      <td>Acai seamless bra CONSCIOUS</td>\n",
       "      <td>306</td>\n",
       "      <td>Bra</td>\n",
       "      <td>Underwear</td>\n",
       "      <td>1010016</td>\n",
       "      <td>Solid</td>\n",
       "      <td>92</td>\n",
       "      <td>Green</td>\n",
       "      <td>2</td>\n",
       "      <td>Medium Dusty</td>\n",
       "      <td>12</td>\n",
       "      <td>Grey</td>\n",
       "      <td>8316</td>\n",
       "      <td>Ladies Sport Bras</td>\n",
       "      <td>S</td>\n",
       "      <td>Sport</td>\n",
       "      <td>26</td>\n",
       "      <td>Sport</td>\n",
       "      <td>5</td>\n",
       "      <td>Ladies H&amp;M Sport</td>\n",
       "      <td>1005</td>\n",
       "      <td>Jersey Fancy</td>\n",
       "      <td>Sports bra in ribbed, fast-drying functional f...</td>\n",
       "      <td>1.0</td>\n",
       "    </tr>\n",
       "    <tr>\n",
       "      <th>98834</th>\n",
       "      <td>881112001</td>\n",
       "      <td>881112</td>\n",
       "      <td>Shaping Skinny RW</td>\n",
       "      <td>272</td>\n",
       "      <td>Trousers</td>\n",
       "      <td>Garment Lower body</td>\n",
       "      <td>1010023</td>\n",
       "      <td>Denim</td>\n",
       "      <td>9</td>\n",
       "      <td>Black</td>\n",
       "      <td>4</td>\n",
       "      <td>Dark</td>\n",
       "      <td>5</td>\n",
       "      <td>Black</td>\n",
       "      <td>1772</td>\n",
       "      <td>Denim Trousers</td>\n",
       "      <td>D</td>\n",
       "      <td>Divided</td>\n",
       "      <td>2</td>\n",
       "      <td>Divided</td>\n",
       "      <td>57</td>\n",
       "      <td>Ladies Denim</td>\n",
       "      <td>1016</td>\n",
       "      <td>Trousers Denim</td>\n",
       "      <td>5-pocket jeans in washed, stretch denim with a...</td>\n",
       "      <td>1.0</td>\n",
       "    </tr>\n",
       "    <tr>\n",
       "      <th>101487</th>\n",
       "      <td>897089001</td>\n",
       "      <td>897089</td>\n",
       "      <td>Italian Earring coat</td>\n",
       "      <td>262</td>\n",
       "      <td>Jacket</td>\n",
       "      <td>Garment Upper body</td>\n",
       "      <td>1010016</td>\n",
       "      <td>Solid</td>\n",
       "      <td>9</td>\n",
       "      <td>Black</td>\n",
       "      <td>4</td>\n",
       "      <td>Dark</td>\n",
       "      <td>5</td>\n",
       "      <td>Black</td>\n",
       "      <td>1201</td>\n",
       "      <td>Outwear</td>\n",
       "      <td>A</td>\n",
       "      <td>Ladieswear</td>\n",
       "      <td>1</td>\n",
       "      <td>Ladieswear</td>\n",
       "      <td>19</td>\n",
       "      <td>Womens Jackets</td>\n",
       "      <td>1007</td>\n",
       "      <td>Outdoor</td>\n",
       "      <td>Calf-length coat in a recycled Italian wool bl...</td>\n",
       "      <td>1.0</td>\n",
       "    </tr>\n",
       "    <tr>\n",
       "      <th>101488</th>\n",
       "      <td>897089003</td>\n",
       "      <td>897089</td>\n",
       "      <td>Italian Earring coat</td>\n",
       "      <td>262</td>\n",
       "      <td>Jacket</td>\n",
       "      <td>Garment Upper body</td>\n",
       "      <td>1010016</td>\n",
       "      <td>Solid</td>\n",
       "      <td>12</td>\n",
       "      <td>Light Beige</td>\n",
       "      <td>2</td>\n",
       "      <td>Medium Dusty</td>\n",
       "      <td>11</td>\n",
       "      <td>Beige</td>\n",
       "      <td>1201</td>\n",
       "      <td>Outwear</td>\n",
       "      <td>A</td>\n",
       "      <td>Ladieswear</td>\n",
       "      <td>1</td>\n",
       "      <td>Ladieswear</td>\n",
       "      <td>19</td>\n",
       "      <td>Womens Jackets</td>\n",
       "      <td>1007</td>\n",
       "      <td>Outdoor</td>\n",
       "      <td>Calf-length coat in a recycled Italian wool bl...</td>\n",
       "      <td>1.0</td>\n",
       "    </tr>\n",
       "    <tr>\n",
       "      <th>81114</th>\n",
       "      <td>804691004</td>\n",
       "      <td>804691</td>\n",
       "      <td>Fred hood</td>\n",
       "      <td>308</td>\n",
       "      <td>Hoodie</td>\n",
       "      <td>Garment Upper body</td>\n",
       "      <td>1010013</td>\n",
       "      <td>Other pattern</td>\n",
       "      <td>13</td>\n",
       "      <td>Beige</td>\n",
       "      <td>2</td>\n",
       "      <td>Medium Dusty</td>\n",
       "      <td>11</td>\n",
       "      <td>Beige</td>\n",
       "      <td>1640</td>\n",
       "      <td>Tops Fancy Jersey</td>\n",
       "      <td>D</td>\n",
       "      <td>Divided</td>\n",
       "      <td>2</td>\n",
       "      <td>Divided</td>\n",
       "      <td>53</td>\n",
       "      <td>Divided Collection</td>\n",
       "      <td>1005</td>\n",
       "      <td>Jersey Fancy</td>\n",
       "      <td>Short top in soft, printed sweatshirt fabric w...</td>\n",
       "      <td>1.0</td>\n",
       "    </tr>\n",
       "    <tr>\n",
       "      <th>101490</th>\n",
       "      <td>897089005</td>\n",
       "      <td>897089</td>\n",
       "      <td>Italian Earring coat</td>\n",
       "      <td>262</td>\n",
       "      <td>Jacket</td>\n",
       "      <td>Garment Upper body</td>\n",
       "      <td>1010016</td>\n",
       "      <td>Solid</td>\n",
       "      <td>14</td>\n",
       "      <td>Dark Beige</td>\n",
       "      <td>4</td>\n",
       "      <td>Dark</td>\n",
       "      <td>1</td>\n",
       "      <td>Mole</td>\n",
       "      <td>1201</td>\n",
       "      <td>Outwear</td>\n",
       "      <td>A</td>\n",
       "      <td>Ladieswear</td>\n",
       "      <td>1</td>\n",
       "      <td>Ladieswear</td>\n",
       "      <td>19</td>\n",
       "      <td>Womens Jackets</td>\n",
       "      <td>1007</td>\n",
       "      <td>Outdoor</td>\n",
       "      <td>Calf-length coat in a recycled Italian wool bl...</td>\n",
       "      <td>1.0</td>\n",
       "    </tr>\n",
       "    <tr>\n",
       "      <th>101493</th>\n",
       "      <td>897098001</td>\n",
       "      <td>897098</td>\n",
       "      <td>New Esme Dress</td>\n",
       "      <td>265</td>\n",
       "      <td>Dress</td>\n",
       "      <td>Garment Full body</td>\n",
       "      <td>1010001</td>\n",
       "      <td>All over pattern</td>\n",
       "      <td>9</td>\n",
       "      <td>Black</td>\n",
       "      <td>4</td>\n",
       "      <td>Dark</td>\n",
       "      <td>5</td>\n",
       "      <td>Black</td>\n",
       "      <td>1343</td>\n",
       "      <td>Projects Dresses</td>\n",
       "      <td>D</td>\n",
       "      <td>Divided</td>\n",
       "      <td>2</td>\n",
       "      <td>Divided</td>\n",
       "      <td>50</td>\n",
       "      <td>Divided Projects</td>\n",
       "      <td>1013</td>\n",
       "      <td>Dresses Ladies</td>\n",
       "      <td>Short dress in airy, crinkled, patterned chiff...</td>\n",
       "      <td>1.0</td>\n",
       "    </tr>\n",
       "  </tbody>\n",
       "</table>\n",
       "</div>"
      ],
      "text/plain": [
       "        article_id  product_code                 Product Name  \\\n",
       "79778    798972013        798972     Bruce skinny 5 pkt fancy   \n",
       "37189    652924010        652924           &DENIM Jeggings HW   \n",
       "101482   897077003        897077                  Sybil Dress   \n",
       "91531    849886012        849886  Acai seamless bra CONSCIOUS   \n",
       "98834    881112001        881112            Shaping Skinny RW   \n",
       "101487   897089001        897089         Italian Earring coat   \n",
       "101488   897089003        897089         Italian Earring coat   \n",
       "81114    804691004        804691                    Fred hood   \n",
       "101490   897089005        897089         Italian Earring coat   \n",
       "101493   897098001        897098               New Esme Dress   \n",
       "\n",
       "        product_type_no Product Type Name  Product Group Name  \\\n",
       "79778               272          Trousers  Garment Lower body   \n",
       "37189               272          Trousers  Garment Lower body   \n",
       "101482              265             Dress   Garment Full body   \n",
       "91531               306               Bra           Underwear   \n",
       "98834               272          Trousers  Garment Lower body   \n",
       "101487              262            Jacket  Garment Upper body   \n",
       "101488              262            Jacket  Garment Upper body   \n",
       "81114               308            Hoodie  Garment Upper body   \n",
       "101490              262            Jacket  Garment Upper body   \n",
       "101493              265             Dress   Garment Full body   \n",
       "\n",
       "        graphical_appearance_no graphical_appearance_name  colour_group_code  \\\n",
       "79778                   1010004                     Check                 17   \n",
       "37189                   1010023                     Denim                 72   \n",
       "101482                  1010016                     Solid                  9   \n",
       "91531                   1010016                     Solid                 92   \n",
       "98834                   1010023                     Denim                  9   \n",
       "101487                  1010016                     Solid                  9   \n",
       "101488                  1010016                     Solid                 12   \n",
       "81114                   1010013             Other pattern                 13   \n",
       "101490                  1010016                     Solid                 14   \n",
       "101493                  1010001          All over pattern                  9   \n",
       "\n",
       "       colour_group_name  perceived_colour_value_id  \\\n",
       "79778    Yellowish Brown                          4   \n",
       "37189               Blue                          2   \n",
       "101482             Black                          4   \n",
       "91531              Green                          2   \n",
       "98834              Black                          4   \n",
       "101487             Black                          4   \n",
       "101488       Light Beige                          2   \n",
       "81114              Beige                          2   \n",
       "101490        Dark Beige                          4   \n",
       "101493             Black                          4   \n",
       "\n",
       "       perceived_colour_value_name  perceived_colour_master_id  \\\n",
       "79778                         Dark                          13   \n",
       "37189                 Medium Dusty                           2   \n",
       "101482                        Dark                           5   \n",
       "91531                 Medium Dusty                          12   \n",
       "98834                         Dark                           5   \n",
       "101487                        Dark                           5   \n",
       "101488                Medium Dusty                          11   \n",
       "81114                 Medium Dusty                          11   \n",
       "101490                        Dark                           1   \n",
       "101493                        Dark                           5   \n",
       "\n",
       "       perceived_colour_master_name  department_no    department_name  \\\n",
       "79778                         Brown           5686            Trouser   \n",
       "37189                          Blue           1774  OL Extended Sizes   \n",
       "101482                        Black           1343   Projects Dresses   \n",
       "91531                          Grey           8316  Ladies Sport Bras   \n",
       "98834                         Black           1772     Denim Trousers   \n",
       "101487                        Black           1201            Outwear   \n",
       "101488                        Beige           1201            Outwear   \n",
       "81114                         Beige           1640  Tops Fancy Jersey   \n",
       "101490                         Mole           1201            Outwear   \n",
       "101493                        Black           1343   Projects Dresses   \n",
       "\n",
       "       index_code  index_name  index_group_no Index Group Name  section_no  \\\n",
       "79778           F    Menswear               3         Menswear          20   \n",
       "37189           A  Ladieswear               1       Ladieswear          57   \n",
       "101482          D     Divided               2          Divided          50   \n",
       "91531           S       Sport              26            Sport           5   \n",
       "98834           D     Divided               2          Divided          57   \n",
       "101487          A  Ladieswear               1       Ladieswear          19   \n",
       "101488          A  Ladieswear               1       Ladieswear          19   \n",
       "81114           D     Divided               2          Divided          53   \n",
       "101490          A  Ladieswear               1       Ladieswear          19   \n",
       "101493          D     Divided               2          Divided          50   \n",
       "\n",
       "              section_name  garment_group_no garment_group_name  \\\n",
       "79778   Contemporary Smart              1009           Trousers   \n",
       "37189         Ladies Denim              1016     Trousers Denim   \n",
       "101482    Divided Projects              1013     Dresses Ladies   \n",
       "91531     Ladies H&M Sport              1005       Jersey Fancy   \n",
       "98834         Ladies Denim              1016     Trousers Denim   \n",
       "101487      Womens Jackets              1007            Outdoor   \n",
       "101488      Womens Jackets              1007            Outdoor   \n",
       "81114   Divided Collection              1005       Jersey Fancy   \n",
       "101490      Womens Jackets              1007            Outdoor   \n",
       "101493    Divided Projects              1013     Dresses Ladies   \n",
       "\n",
       "                                              detail_desc  est_purchase  \n",
       "79778   5-pocket trousers in stretch cotton twill with...           1.0  \n",
       "37189   High-waisted jeggings in stretch denim with a ...           1.0  \n",
       "101482  Short dress in a viscose weave with a rounded ...           1.0  \n",
       "91531   Sports bra in ribbed, fast-drying functional f...           1.0  \n",
       "98834   5-pocket jeans in washed, stretch denim with a...           1.0  \n",
       "101487  Calf-length coat in a recycled Italian wool bl...           1.0  \n",
       "101488  Calf-length coat in a recycled Italian wool bl...           1.0  \n",
       "81114   Short top in soft, printed sweatshirt fabric w...           1.0  \n",
       "101490  Calf-length coat in a recycled Italian wool bl...           1.0  \n",
       "101493  Short dress in airy, crinkled, patterned chiff...           1.0  "
      ]
     },
     "execution_count": 67,
     "metadata": {},
     "output_type": "execute_result"
    }
   ],
   "source": [
    "# Final step is to only return the top n_recs as denoted by input, done using .head(n_recs)\n",
    "not_bought.head(n_recs)"
   ]
  },
  {
   "cell_type": "markdown",
   "metadata": {},
   "source": [
    "## Function"
   ]
  },
  {
   "cell_type": "code",
   "execution_count": 68,
   "metadata": {
    "ExecuteTime": {
     "end_time": "2022-06-02T15:58:19.660338Z",
     "start_time": "2022-06-02T15:58:19.653277Z"
    }
   },
   "outputs": [],
   "source": [
    "def customer_article_recommend():\n",
    "    \n",
    "    user = input('CustomerID: ')\n",
    "    n_recs = int(input('How many recommendations? '))\n",
    "    \n",
    "    have_bought = list(df_customer.loc[customer, 'article_id'])\n",
    "    not_bought = meta_articles.copy()\n",
    "    not_bought.drop(have_bought, inplace=True)\n",
    "    not_bought.reset_index(inplace=True)\n",
    "    not_bought['est_purchase'] = not_bought['article_id'].apply(lambda x: final_model.predict(customer, x).est)\n",
    "    not_bought.sort_values(by='est_purchase', ascending=False, inplace=True)\n",
    "    \n",
    "    not_bought.rename(columns={'prod_name':'Product Name','product_type_name':'Product Type Name', 'product_group_name':'Product Group Name',\n",
    "                               'index_group_name':'Index Group Name', 'garment_group_name':'Garment Group Name'}, inplace=True)\n",
    "    not_bought = not_bought[['article_id','Product Name', 'Product Type Name', 'Product Group Name', 'Index Group Name', 'Garment Group Name']]\n",
    "    not_bought.iloc[:100, :]\n",
    "    not_bought = not_bought.sample(frac=1).reset_index(drop=True)\n",
    "    return not_bought.head(n_recs)"
   ]
  },
  {
   "cell_type": "markdown",
   "metadata": {},
   "source": [
    "## Evaluation"
   ]
  },
  {
   "cell_type": "code",
   "execution_count": 71,
   "metadata": {
    "ExecuteTime": {
     "end_time": "2022-06-02T16:26:23.370970Z",
     "start_time": "2022-06-02T16:26:09.556850Z"
    }
   },
   "outputs": [
    {
     "data": {
      "text/html": [
       "<div>\n",
       "<style scoped>\n",
       "    .dataframe tbody tr th:only-of-type {\n",
       "        vertical-align: middle;\n",
       "    }\n",
       "\n",
       "    .dataframe tbody tr th {\n",
       "        vertical-align: top;\n",
       "    }\n",
       "\n",
       "    .dataframe thead th {\n",
       "        text-align: right;\n",
       "    }\n",
       "</style>\n",
       "<table border=\"1\" class=\"dataframe\">\n",
       "  <thead>\n",
       "    <tr style=\"text-align: right;\">\n",
       "      <th></th>\n",
       "      <th>article_id</th>\n",
       "      <th>Product Name</th>\n",
       "      <th>Product Type Name</th>\n",
       "      <th>Product Group Name</th>\n",
       "      <th>Index Group Name</th>\n",
       "      <th>Garment Group Name</th>\n",
       "    </tr>\n",
       "  </thead>\n",
       "  <tbody>\n",
       "    <tr>\n",
       "      <th>0</th>\n",
       "      <td>923134007</td>\n",
       "      <td>Clara jogger</td>\n",
       "      <td>Trousers</td>\n",
       "      <td>Garment Lower body</td>\n",
       "      <td>Ladieswear</td>\n",
       "      <td>Jersey Fancy</td>\n",
       "    </tr>\n",
       "    <tr>\n",
       "      <th>1</th>\n",
       "      <td>706365001</td>\n",
       "      <td>Thyme</td>\n",
       "      <td>Dress</td>\n",
       "      <td>Garment Full body</td>\n",
       "      <td>Ladieswear</td>\n",
       "      <td>Dresses Ladies</td>\n",
       "    </tr>\n",
       "    <tr>\n",
       "      <th>2</th>\n",
       "      <td>681156002</td>\n",
       "      <td>Lazer Razer Triangle  Swimsuit</td>\n",
       "      <td>Swimsuit</td>\n",
       "      <td>Swimwear</td>\n",
       "      <td>Ladieswear</td>\n",
       "      <td>Swimwear</td>\n",
       "    </tr>\n",
       "  </tbody>\n",
       "</table>\n",
       "</div>"
      ],
      "text/plain": [
       "   article_id                    Product Name Product Type Name  \\\n",
       "0   923134007                    Clara jogger          Trousers   \n",
       "1   706365001                           Thyme             Dress   \n",
       "2   681156002  Lazer Razer Triangle  Swimsuit          Swimsuit   \n",
       "\n",
       "   Product Group Name Index Group Name Garment Group Name  \n",
       "0  Garment Lower body       Ladieswear       Jersey Fancy  \n",
       "1   Garment Full body       Ladieswear     Dresses Ladies  \n",
       "2            Swimwear       Ladieswear           Swimwear  "
      ]
     },
     "execution_count": 71,
     "metadata": {},
     "output_type": "execute_result"
    }
   ],
   "source": [
    "example = customer_article_recommend()\n",
    "\n",
    "example"
   ]
  },
  {
   "cell_type": "code",
   "execution_count": null,
   "metadata": {
    "ExecuteTime": {
     "end_time": "2022-06-02T16:27:21.505800Z",
     "start_time": "2022-06-02T16:27:21.496475Z"
    }
   },
   "outputs": [],
   "source": [
    "example.to_csv('Data/example.csv', index=False) "
   ]
  },
  {
   "cell_type": "code",
   "execution_count": null,
   "metadata": {},
   "outputs": [],
   "source": []
  }
 ],
 "metadata": {
  "kernelspec": {
   "display_name": ".venv",
   "language": "python",
   "name": "python3"
  },
  "language_info": {
   "codemirror_mode": {
    "name": "ipython",
    "version": 3
   },
   "file_extension": ".py",
   "mimetype": "text/x-python",
   "name": "python",
   "nbconvert_exporter": "python",
   "pygments_lexer": "ipython3",
   "version": "3.12.6"
  },
  "varInspector": {
   "cols": {
    "lenName": 16,
    "lenType": 16,
    "lenVar": 40
   },
   "kernels_config": {
    "python": {
     "delete_cmd_postfix": "",
     "delete_cmd_prefix": "del ",
     "library": "var_list.py",
     "varRefreshCmd": "print(var_dic_list())"
    },
    "r": {
     "delete_cmd_postfix": ") ",
     "delete_cmd_prefix": "rm(",
     "library": "var_list.r",
     "varRefreshCmd": "cat(var_dic_list()) "
    }
   },
   "types_to_exclude": [
    "module",
    "function",
    "builtin_function_or_method",
    "instance",
    "_Feature"
   ],
   "window_display": false
  }
 },
 "nbformat": 4,
 "nbformat_minor": 4
}
